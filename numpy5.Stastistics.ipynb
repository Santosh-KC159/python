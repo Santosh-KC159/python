{
 "cells": [
  {
   "cell_type": "markdown",
   "metadata": {},
   "source": [
    "## Satistics - Introduction\n",
    "\n",
    "https://numpy.org/doc/stable/reference/routines.statistics.html"
   ]
  },
  {
   "cell_type": "code",
   "execution_count": 1,
   "metadata": {},
   "outputs": [],
   "source": [
    "import numpy as np\n",
    "import pandas as pd"
   ]
  },
  {
   "cell_type": "markdown",
   "metadata": {},
   "source": [
    "#### 1. Simple Statistical Exploration"
   ]
  },
  {
   "cell_type": "code",
   "execution_count": 2,
   "metadata": {},
   "outputs": [
    {
     "data": {
      "text/plain": [
       "array([[0.07806367, 0.72964091, 0.09172192, 0.07275026, 0.49840155,\n",
       "        0.08479688, 0.28820555, 0.56243397, 0.14259001, 0.50977934],\n",
       "       [0.61992365, 0.69904462, 0.98026361, 0.80819755, 0.83232862,\n",
       "        0.78665563, 0.74606254, 0.99007944, 0.61615016, 0.17599432],\n",
       "       [0.98663276, 0.50935193, 0.91203379, 0.43885156, 0.04005861,\n",
       "        0.21482994, 0.7075895 , 0.64094332, 0.57519686, 0.98542801],\n",
       "       [0.29107846, 0.77057477, 0.17831171, 0.06004635, 0.57914525,\n",
       "        0.16316725, 0.71458169, 0.6993248 , 0.76159346, 0.57380602],\n",
       "       [0.38417739, 0.54834329, 0.80826792, 0.29847732, 0.81826739,\n",
       "        0.48978161, 0.71853463, 0.22116954, 0.58480943, 0.77943184],\n",
       "       [0.16004953, 0.47073551, 0.37383683, 0.08337289, 0.37851568,\n",
       "        0.29764813, 0.43801746, 0.33988285, 0.49811773, 0.05522496],\n",
       "       [0.13046051, 0.04251038, 0.30817734, 0.56094299, 0.55648042,\n",
       "        0.64120133, 0.92898561, 0.26647629, 0.8046275 , 0.13507882],\n",
       "       [0.87514508, 0.31723829, 0.7681403 , 0.03608308, 0.59105041,\n",
       "        0.38967483, 0.82865803, 0.4452894 , 0.00878909, 0.11528569],\n",
       "       [0.98673012, 0.6789751 , 0.7732614 , 0.04045291, 0.70101427,\n",
       "        0.00258532, 0.59795746, 0.23787946, 0.79237827, 0.93170858],\n",
       "       [0.63542875, 0.98548818, 0.74781749, 0.71788388, 0.13612049,\n",
       "        0.915001  , 0.10200128, 0.84868823, 0.94035506, 0.30270582]])"
      ]
     },
     "execution_count": 2,
     "metadata": {},
     "output_type": "execute_result"
    }
   ],
   "source": [
    "A = np.random.rand(10,10)\n",
    "A"
   ]
  },
  {
   "cell_type": "code",
   "execution_count": 3,
   "metadata": {},
   "outputs": [
    {
     "data": {
      "text/plain": [
       "(10, 10)"
      ]
     },
     "execution_count": 3,
     "metadata": {},
     "output_type": "execute_result"
    }
   ],
   "source": [
    "A.shape"
   ]
  },
  {
   "cell_type": "code",
   "execution_count": 4,
   "metadata": {},
   "outputs": [
    {
     "data": {
      "text/plain": [
       "0.9900794403953643"
      ]
     },
     "execution_count": 4,
     "metadata": {},
     "output_type": "execute_result"
    }
   ],
   "source": [
    "A.max()"
   ]
  },
  {
   "cell_type": "code",
   "execution_count": 5,
   "metadata": {},
   "outputs": [
    {
     "data": {
      "text/plain": [
       "0.002585317178521618"
      ]
     },
     "execution_count": 5,
     "metadata": {},
     "output_type": "execute_result"
    }
   ],
   "source": [
    "\n",
    "A.min()"
   ]
  },
  {
   "cell_type": "code",
   "execution_count": 6,
   "metadata": {},
   "outputs": [
    {
     "data": {
      "text/plain": [
       "0.506870205979434"
      ]
     },
     "execution_count": 6,
     "metadata": {},
     "output_type": "execute_result"
    }
   ],
   "source": [
    "A.mean()"
   ]
  },
  {
   "cell_type": "code",
   "execution_count": 7,
   "metadata": {},
   "outputs": [
    {
     "data": {
      "text/plain": [
       "0.5587117030844108"
      ]
     },
     "execution_count": 7,
     "metadata": {},
     "output_type": "execute_result"
    }
   ],
   "source": [
    "np.median(A)"
   ]
  },
  {
   "cell_type": "code",
   "execution_count": 8,
   "metadata": {},
   "outputs": [
    {
     "data": {
      "text/plain": [
       "0.2982989931320208"
      ]
     },
     "execution_count": 8,
     "metadata": {},
     "output_type": "execute_result"
    }
   ],
   "source": [
    "A.std()"
   ]
  },
  {
   "cell_type": "code",
   "execution_count": 9,
   "metadata": {},
   "outputs": [
    {
     "data": {
      "text/plain": [
       "array([[ 0.06133332, -0.00895822, -0.00968388,  0.04923201,  0.0065694 ,\n",
       "         0.00889956, -0.03275769, -0.00981856,  0.01484158, -0.01182003],\n",
       "       [-0.00895822,  0.05367566, -0.02796258, -0.01417794, -0.01398762,\n",
       "         0.01618145,  0.01513212,  0.02839295, -0.04110745,  0.02054352],\n",
       "       [-0.00968388, -0.02796258,  0.1005929 ,  0.00045247,  0.00246766,\n",
       "        -0.01528611, -0.04089166,  0.02325063,  0.06316155, -0.00249875],\n",
       "       [ 0.04923201, -0.01417794,  0.00045247,  0.07654823,  0.01145549,\n",
       "         0.02525657,  0.00338442, -0.00843374,  0.03745194, -0.01429127],\n",
       "       [ 0.0065694 , -0.01398762,  0.00246766,  0.01145549,  0.04679507,\n",
       "         0.00856949,  0.00991526,  0.01472967,  0.04330253, -0.04094241],\n",
       "       [ 0.00889956,  0.01618145, -0.01528611,  0.02525657,  0.00856949,\n",
       "         0.02513122,  0.0173197 ,  0.00999855,  0.0052612 ,  0.00969968],\n",
       "       [-0.03275769,  0.01513212, -0.04089166,  0.00338442,  0.00991526,\n",
       "         0.0173197 ,  0.09277239, -0.00440966, -0.03553917, -0.0256844 ],\n",
       "       [-0.00981856,  0.02839295,  0.02325063, -0.00843374,  0.01472967,\n",
       "         0.00999855, -0.00440966,  0.10477778,  0.03252972, -0.03984295],\n",
       "       [ 0.01484158, -0.04110745,  0.06316155,  0.03745194,  0.04330253,\n",
       "         0.0052612 , -0.03553917,  0.03252972,  0.12639839, -0.03832275],\n",
       "       [-0.01182003,  0.02054352, -0.00249875, -0.01429127, -0.04094241,\n",
       "         0.00969968, -0.0256844 , -0.03984295, -0.03832275,  0.11145535]])"
      ]
     },
     "execution_count": 9,
     "metadata": {},
     "output_type": "execute_result"
    }
   ],
   "source": [
    "np.cov(A)"
   ]
  },
  {
   "cell_type": "markdown",
   "metadata": {},
   "source": [
    "##### Mean and std of row"
   ]
  },
  {
   "cell_type": "code",
   "execution_count": 10,
   "metadata": {},
   "outputs": [
    {
     "data": {
      "text/plain": [
       "array([0.51476899, 0.5751903 , 0.59418323, 0.31170588, 0.51313827,\n",
       "       0.39853419, 0.60705937, 0.52521673, 0.57246076, 0.45644434])"
      ]
     },
     "execution_count": 10,
     "metadata": {},
     "output_type": "execute_result"
    }
   ],
   "source": [
    "\n",
    "np.mean(A,axis =0)"
   ]
  },
  {
   "cell_type": "code",
   "execution_count": 11,
   "metadata": {},
   "outputs": [
    {
     "data": {
      "text/plain": [
       "array([0.33648358, 0.24954739, 0.30620601, 0.2849665 , 0.25037504,\n",
       "       0.28968907, 0.24322169, 0.2546593 , 0.2799094 , 0.33310192])"
      ]
     },
     "execution_count": 11,
     "metadata": {},
     "output_type": "execute_result"
    }
   ],
   "source": [
    "np.std(A,axis =0)"
   ]
  },
  {
   "cell_type": "markdown",
   "metadata": {},
   "source": [
    "##### Mean and std of col"
   ]
  },
  {
   "cell_type": "code",
   "execution_count": 12,
   "metadata": {},
   "outputs": [
    {
     "data": {
      "text/plain": [
       "array([0.30583841, 0.72547001, 0.60109163, 0.47916298, 0.56512604,\n",
       "       0.30954016, 0.43749412, 0.43753542, 0.57429429, 0.63314902])"
      ]
     },
     "execution_count": 12,
     "metadata": {},
     "output_type": "execute_result"
    }
   ],
   "source": [
    "np.mean(A,axis =1)"
   ]
  },
  {
   "cell_type": "code",
   "execution_count": 13,
   "metadata": {},
   "outputs": [
    {
     "data": {
      "text/plain": [
       "array([0.23494678, 0.21979103, 0.30088803, 0.26247554, 0.20522076,\n",
       "       0.15039313, 0.28895528, 0.30708305, 0.33728111, 0.31671725])"
      ]
     },
     "execution_count": 13,
     "metadata": {},
     "output_type": "execute_result"
    }
   ],
   "source": [
    "np.std(A,axis = 1)"
   ]
  },
  {
   "cell_type": "markdown",
   "metadata": {},
   "source": [
    "### 2. Feature Scaling:"
   ]
  },
  {
   "cell_type": "markdown",
   "metadata": {},
   "source": [
    "* 1.Mini-max scalar"
   ]
  },
  {
   "cell_type": "code",
   "execution_count": 15,
   "metadata": {},
   "outputs": [
    {
     "data": {
      "text/plain": [
       "array([[95, 39, 22, 10, 41, 84,  7, 48, 65, 73],\n",
       "       [88, 66, 20, 99, 52, 88, 44, 78, 40,  1],\n",
       "       [93, 27, 78, 25, 23, 85,  6, 29, 19, 45],\n",
       "       [92, 38, 95,  3, 66, 59, 81, 99, 97, 46],\n",
       "       [23, 81, 39, 14, 92, 72, 67, 13, 46, 15],\n",
       "       [26, 78, 48, 70, 75,  3, 39, 44, 11, 94],\n",
       "       [64, 69, 23, 35, 54, 91, 88, 73, 31, 99],\n",
       "       [17, 79, 26, 32, 50, 82, 79, 40, 98, 68],\n",
       "       [38, 74, 96, 22, 98, 28,  7,  8, 79, 50],\n",
       "       [78, 21, 28, 88, 71, 10, 32, 74, 88, 11]])"
      ]
     },
     "execution_count": 15,
     "metadata": {},
     "output_type": "execute_result"
    }
   ],
   "source": [
    "A = (100*np.random.rand(10,10)).astype(int)\n",
    "A"
   ]
  },
  {
   "cell_type": "code",
   "execution_count": 16,
   "metadata": {},
   "outputs": [],
   "source": [
    "A_mm = (A - A.min())/(A.max()-A.min())"
   ]
  },
  {
   "cell_type": "code",
   "execution_count": 17,
   "metadata": {},
   "outputs": [
    {
     "data": {
      "text/plain": [
       "array([[0.95918367, 0.3877551 , 0.21428571, 0.09183673, 0.40816327,\n",
       "        0.84693878, 0.06122449, 0.47959184, 0.65306122, 0.73469388],\n",
       "       [0.8877551 , 0.66326531, 0.19387755, 1.        , 0.52040816,\n",
       "        0.8877551 , 0.43877551, 0.78571429, 0.39795918, 0.        ],\n",
       "       [0.93877551, 0.26530612, 0.78571429, 0.24489796, 0.2244898 ,\n",
       "        0.85714286, 0.05102041, 0.28571429, 0.18367347, 0.44897959],\n",
       "       [0.92857143, 0.37755102, 0.95918367, 0.02040816, 0.66326531,\n",
       "        0.59183673, 0.81632653, 1.        , 0.97959184, 0.45918367],\n",
       "       [0.2244898 , 0.81632653, 0.3877551 , 0.13265306, 0.92857143,\n",
       "        0.7244898 , 0.67346939, 0.12244898, 0.45918367, 0.14285714],\n",
       "       [0.25510204, 0.78571429, 0.47959184, 0.70408163, 0.75510204,\n",
       "        0.02040816, 0.3877551 , 0.43877551, 0.10204082, 0.94897959],\n",
       "       [0.64285714, 0.69387755, 0.2244898 , 0.34693878, 0.54081633,\n",
       "        0.91836735, 0.8877551 , 0.73469388, 0.30612245, 1.        ],\n",
       "       [0.16326531, 0.79591837, 0.25510204, 0.31632653, 0.5       ,\n",
       "        0.82653061, 0.79591837, 0.39795918, 0.98979592, 0.68367347],\n",
       "       [0.37755102, 0.74489796, 0.96938776, 0.21428571, 0.98979592,\n",
       "        0.2755102 , 0.06122449, 0.07142857, 0.79591837, 0.5       ],\n",
       "       [0.78571429, 0.20408163, 0.2755102 , 0.8877551 , 0.71428571,\n",
       "        0.09183673, 0.31632653, 0.74489796, 0.8877551 , 0.10204082]])"
      ]
     },
     "execution_count": 17,
     "metadata": {},
     "output_type": "execute_result"
    }
   ],
   "source": [
    "\n",
    "A_mm"
   ]
  },
  {
   "cell_type": "code",
   "execution_count": 18,
   "metadata": {},
   "outputs": [
    {
     "data": {
      "text/plain": [
       "array([[1.        , 0.3       , 0.02631579, 0.07291667, 0.24      ,\n",
       "        0.92045455, 0.01219512, 0.43956044, 0.62068966, 0.73469388],\n",
       "       [0.91025641, 0.75      , 0.        , 1.        , 0.38666667,\n",
       "        0.96590909, 0.46341463, 0.76923077, 0.33333333, 0.        ],\n",
       "       [0.97435897, 0.1       , 0.76315789, 0.22916667, 0.        ,\n",
       "        0.93181818, 0.        , 0.23076923, 0.09195402, 0.44897959],\n",
       "       [0.96153846, 0.28333333, 0.98684211, 0.        , 0.57333333,\n",
       "        0.63636364, 0.91463415, 1.        , 0.98850575, 0.45918367],\n",
       "       [0.07692308, 1.        , 0.25      , 0.11458333, 0.92      ,\n",
       "        0.78409091, 0.74390244, 0.05494505, 0.40229885, 0.14285714],\n",
       "       [0.11538462, 0.95      , 0.36842105, 0.69791667, 0.69333333,\n",
       "        0.        , 0.40243902, 0.3956044 , 0.        , 0.94897959],\n",
       "       [0.6025641 , 0.8       , 0.03947368, 0.33333333, 0.41333333,\n",
       "        1.        , 1.        , 0.71428571, 0.22988506, 1.        ],\n",
       "       [0.        , 0.96666667, 0.07894737, 0.30208333, 0.36      ,\n",
       "        0.89772727, 0.8902439 , 0.35164835, 1.        , 0.68367347],\n",
       "       [0.26923077, 0.88333333, 1.        , 0.19791667, 1.        ,\n",
       "        0.28409091, 0.01219512, 0.        , 0.7816092 , 0.5       ],\n",
       "       [0.78205128, 0.        , 0.10526316, 0.88541667, 0.64      ,\n",
       "        0.07954545, 0.31707317, 0.72527473, 0.88505747, 0.10204082]])"
      ]
     },
     "execution_count": 18,
     "metadata": {},
     "output_type": "execute_result"
    }
   ],
   "source": [
    "from sklearn import preprocessing\n",
    "\n",
    "A_scaled = preprocessing.MinMaxScaler().fit(A).transform(A)\n",
    "A_scaled"
   ]
  },
  {
   "cell_type": "markdown",
   "metadata": {},
   "source": [
    "* 1.Standard Scalar"
   ]
  },
  {
   "cell_type": "code",
   "execution_count": 19,
   "metadata": {},
   "outputs": [
    {
     "data": {
      "text/plain": [
       "array([[19, 80, 30,  0, 37, 69, 34, 24, 69, 41],\n",
       "       [34, 82, 91, 87, 36, 86, 86, 94, 21, 46],\n",
       "       [75, 29, 96, 92, 96, 23, 46, 89, 58, 94],\n",
       "       [36, 69,  0, 68, 62, 76, 28,  5, 81, 72],\n",
       "       [83, 23, 39, 45, 69,  3, 15, 97, 71,  2],\n",
       "       [92, 97, 59, 43, 93, 78, 46, 65, 99, 61],\n",
       "       [89, 37, 62, 83, 56, 91, 15, 86, 15, 34],\n",
       "       [20,  3, 21, 23, 77, 49, 74, 51, 70, 91],\n",
       "       [25,  4, 72, 98, 66, 26, 86, 62, 86,  1],\n",
       "       [55, 45, 99,  4, 22, 25, 53,  9,  9, 79]])"
      ]
     },
     "execution_count": 19,
     "metadata": {},
     "output_type": "execute_result"
    }
   ],
   "source": [
    "A = (100*np.random.rand(10,10)).astype(int)\n",
    "A"
   ]
  },
  {
   "cell_type": "code",
   "execution_count": 20,
   "metadata": {},
   "outputs": [],
   "source": [
    "A_ss = A - A.mean()/A.std()"
   ]
  },
  {
   "cell_type": "code",
   "execution_count": 21,
   "metadata": {},
   "outputs": [
    {
     "data": {
      "text/plain": [
       "array([[17.22422152, 78.22422152, 28.22422152, -1.77577848, 35.22422152,\n",
       "        67.22422152, 32.22422152, 22.22422152, 67.22422152, 39.22422152],\n",
       "       [32.22422152, 80.22422152, 89.22422152, 85.22422152, 34.22422152,\n",
       "        84.22422152, 84.22422152, 92.22422152, 19.22422152, 44.22422152],\n",
       "       [73.22422152, 27.22422152, 94.22422152, 90.22422152, 94.22422152,\n",
       "        21.22422152, 44.22422152, 87.22422152, 56.22422152, 92.22422152],\n",
       "       [34.22422152, 67.22422152, -1.77577848, 66.22422152, 60.22422152,\n",
       "        74.22422152, 26.22422152,  3.22422152, 79.22422152, 70.22422152],\n",
       "       [81.22422152, 21.22422152, 37.22422152, 43.22422152, 67.22422152,\n",
       "         1.22422152, 13.22422152, 95.22422152, 69.22422152,  0.22422152],\n",
       "       [90.22422152, 95.22422152, 57.22422152, 41.22422152, 91.22422152,\n",
       "        76.22422152, 44.22422152, 63.22422152, 97.22422152, 59.22422152],\n",
       "       [87.22422152, 35.22422152, 60.22422152, 81.22422152, 54.22422152,\n",
       "        89.22422152, 13.22422152, 84.22422152, 13.22422152, 32.22422152],\n",
       "       [18.22422152,  1.22422152, 19.22422152, 21.22422152, 75.22422152,\n",
       "        47.22422152, 72.22422152, 49.22422152, 68.22422152, 89.22422152],\n",
       "       [23.22422152,  2.22422152, 70.22422152, 96.22422152, 64.22422152,\n",
       "        24.22422152, 84.22422152, 60.22422152, 84.22422152, -0.77577848],\n",
       "       [53.22422152, 43.22422152, 97.22422152,  2.22422152, 20.22422152,\n",
       "        23.22422152, 51.22422152,  7.22422152,  7.22422152, 77.22422152]])"
      ]
     },
     "execution_count": 21,
     "metadata": {},
     "output_type": "execute_result"
    }
   ],
   "source": [
    "A_ss"
   ]
  },
  {
   "cell_type": "code",
   "execution_count": 22,
   "metadata": {},
   "outputs": [
    {
     "data": {
      "text/plain": [
       "array([[-1.2038002 ,  1.04219536, -0.83846204, -1.56204188, -1.05585172,\n",
       "         0.55064569, -0.56658218, -1.02922447,  0.3690397 , -0.34967091],\n",
       "       [-0.66956934,  1.10516789,  1.0628831 ,  0.94067716, -1.09912433,\n",
       "         1.12143696,  1.49371666,  1.07737532, -1.22680764, -0.19216149],\n",
       "       [ 0.79066167, -0.56360414,  1.21873106,  1.08451158,  1.49723236,\n",
       "        -0.99384832, -0.0911286 ,  0.9269039 ,  0.00332468,  1.31992893],\n",
       "       [-0.59833856,  0.69584645, -1.77354981,  0.39410633,  0.02596357,\n",
       "         0.78567739, -0.80430897, -1.60101583,  0.76800153,  0.62688749],\n",
       "       [ 1.07558479, -0.75252173, -0.5579357 , -0.26753204,  0.32887185,\n",
       "        -1.66536746, -1.31938368,  1.16765817,  0.43553333, -1.57824438],\n",
       "       [ 1.3961233 ,  1.57746186,  0.06545614, -0.32506581,  1.36741453,\n",
       "         0.8528293 , -0.0911286 ,  0.20464112,  1.36644428,  0.28036677],\n",
       "       [ 1.28927713, -0.31171402,  0.15896492,  0.82560961, -0.2336721 ,\n",
       "         1.28931674, -1.31938368,  0.83662106, -1.42628855, -0.5701841 ],\n",
       "       [-1.16818481, -1.38224702, -1.11898837, -0.90040352,  0.67505274,\n",
       "        -0.12087344,  1.01826308, -0.21667883,  0.40228652,  1.22542328],\n",
       "       [-0.99010785, -1.35076076,  0.47066085,  1.2571129 ,  0.19905401,\n",
       "        -0.89312045,  1.49371666,  0.11435827,  0.93423563, -1.60974626],\n",
       "       [ 0.07835386, -0.0598239 ,  1.31223984, -1.44697434, -1.7049409 ,\n",
       "        -0.92669641,  0.18621932, -1.4806387 , -1.62576947,  0.84740068]])"
      ]
     },
     "execution_count": 22,
     "metadata": {},
     "output_type": "execute_result"
    }
   ],
   "source": [
    "from sklearn import preprocessing\n",
    "\n",
    "A_scaled = preprocessing.StandardScaler().fit(A).transform(A)\n",
    "A_scaled"
   ]
  },
  {
   "attachments": {
    "image.png": {
     "image/png": "[encoded data removed]"
    }
   },
   "cell_type": "markdown",
   "metadata": {},
   "source": [
    "## Baye's Theorem:\n",
    "\n",
    "An important philosophy in Machine Learning and Statistics.\n",
    "\n",
    "![image.png](attachment:image.png)"
   ]
  },
  {
   "cell_type": "markdown",
   "metadata": {},
   "source": [
    "\n",
    "###### Important Topics:\n",
    "\n",
    "1.Bayesian Classifier : Example of Machine Learning in Bayesian theory\n",
    "\n",
    "2.Boltzman Machine: Example of Machine Learning for Physicist.\n",
    "\n",
    "3.Quantum Boltzman Machine: Fusion of Machine Learning and Quantum Physics\n",
    "\n",
    "4.Markove Random Field: Is there a Field Theory in Machine Learning?"
   ]
  },
  {
   "cell_type": "markdown",
   "metadata": {},
   "source": [
    "#### A simple demo illustration Baye's theorm"
   ]
  },
  {
   "cell_type": "code",
   "execution_count": 23,
   "metadata": {},
   "outputs": [
    {
     "data": {
      "text/plain": [
       "array([[98, 57, 58, 13],\n",
       "       [92, 84, 72, 27],\n",
       "       [90, 23, 56, 48],\n",
       "       [54, 37, 56, 47],\n",
       "       [43, 71, 89, 44],\n",
       "       [42, 24, 21, 76],\n",
       "       [48, 75, 93, 67],\n",
       "       [36, 78, 20, 34],\n",
       "       [87, 31, 39, 15],\n",
       "       [60, 91, 20,  1]])"
      ]
     },
     "execution_count": 23,
     "metadata": {},
     "output_type": "execute_result"
    }
   ],
   "source": [
    "A = (100*np.random.rand(10,4)).astype(int)\n",
    "A"
   ]
  },
  {
   "cell_type": "code",
   "execution_count": 24,
   "metadata": {},
   "outputs": [],
   "source": [
    "df = pd.DataFrame(A, columns= ['bud','green','ripen','rotten'],\\\n",
    "                  index= ['apple','guava','mango','orange','banana','pear','papaya','strwberrey','grape','melon'])"
   ]
  },
  {
   "cell_type": "code",
   "execution_count": 25,
   "metadata": {},
   "outputs": [
    {
     "data": {
      "text/html": [
       "<div>\n",
       "<style scoped>\n",
       "    .dataframe tbody tr th:only-of-type {\n",
       "        vertical-align: middle;\n",
       "    }\n",
       "\n",
       "    .dataframe tbody tr th {\n",
       "        vertical-align: top;\n",
       "    }\n",
       "\n",
       "    .dataframe thead th {\n",
       "        text-align: right;\n",
       "    }\n",
       "</style>\n",
       "<table border=\"1\" class=\"dataframe\">\n",
       "  <thead>\n",
       "    <tr style=\"text-align: right;\">\n",
       "      <th></th>\n",
       "      <th>bud</th>\n",
       "      <th>green</th>\n",
       "      <th>ripen</th>\n",
       "      <th>rotten</th>\n",
       "    </tr>\n",
       "  </thead>\n",
       "  <tbody>\n",
       "    <tr>\n",
       "      <th>apple</th>\n",
       "      <td>98</td>\n",
       "      <td>57</td>\n",
       "      <td>58</td>\n",
       "      <td>13</td>\n",
       "    </tr>\n",
       "    <tr>\n",
       "      <th>guava</th>\n",
       "      <td>92</td>\n",
       "      <td>84</td>\n",
       "      <td>72</td>\n",
       "      <td>27</td>\n",
       "    </tr>\n",
       "    <tr>\n",
       "      <th>mango</th>\n",
       "      <td>90</td>\n",
       "      <td>23</td>\n",
       "      <td>56</td>\n",
       "      <td>48</td>\n",
       "    </tr>\n",
       "    <tr>\n",
       "      <th>orange</th>\n",
       "      <td>54</td>\n",
       "      <td>37</td>\n",
       "      <td>56</td>\n",
       "      <td>47</td>\n",
       "    </tr>\n",
       "    <tr>\n",
       "      <th>banana</th>\n",
       "      <td>43</td>\n",
       "      <td>71</td>\n",
       "      <td>89</td>\n",
       "      <td>44</td>\n",
       "    </tr>\n",
       "    <tr>\n",
       "      <th>pear</th>\n",
       "      <td>42</td>\n",
       "      <td>24</td>\n",
       "      <td>21</td>\n",
       "      <td>76</td>\n",
       "    </tr>\n",
       "    <tr>\n",
       "      <th>papaya</th>\n",
       "      <td>48</td>\n",
       "      <td>75</td>\n",
       "      <td>93</td>\n",
       "      <td>67</td>\n",
       "    </tr>\n",
       "    <tr>\n",
       "      <th>strwberrey</th>\n",
       "      <td>36</td>\n",
       "      <td>78</td>\n",
       "      <td>20</td>\n",
       "      <td>34</td>\n",
       "    </tr>\n",
       "    <tr>\n",
       "      <th>grape</th>\n",
       "      <td>87</td>\n",
       "      <td>31</td>\n",
       "      <td>39</td>\n",
       "      <td>15</td>\n",
       "    </tr>\n",
       "    <tr>\n",
       "      <th>melon</th>\n",
       "      <td>60</td>\n",
       "      <td>91</td>\n",
       "      <td>20</td>\n",
       "      <td>1</td>\n",
       "    </tr>\n",
       "  </tbody>\n",
       "</table>\n",
       "</div>"
      ],
      "text/plain": [
       "            bud  green  ripen  rotten\n",
       "apple        98     57     58      13\n",
       "guava        92     84     72      27\n",
       "mango        90     23     56      48\n",
       "orange       54     37     56      47\n",
       "banana       43     71     89      44\n",
       "pear         42     24     21      76\n",
       "papaya       48     75     93      67\n",
       "strwberrey   36     78     20      34\n",
       "grape        87     31     39      15\n",
       "melon        60     91     20       1"
      ]
     },
     "execution_count": 25,
     "metadata": {},
     "output_type": "execute_result"
    }
   ],
   "source": [
    "df"
   ]
  },
  {
   "cell_type": "code",
   "execution_count": 26,
   "metadata": {},
   "outputs": [
    {
     "data": {
      "text/plain": [
       "bud       650\n",
       "green     571\n",
       "ripen     524\n",
       "rotten    372\n",
       "dtype: int64"
      ]
     },
     "execution_count": 26,
     "metadata": {},
     "output_type": "execute_result"
    }
   ],
   "source": [
    "df.sum()"
   ]
  },
  {
   "cell_type": "code",
   "execution_count": 27,
   "metadata": {},
   "outputs": [
    {
     "data": {
      "text/plain": [
       "2117"
      ]
     },
     "execution_count": 27,
     "metadata": {},
     "output_type": "execute_result"
    }
   ],
   "source": [
    "sum(df.sum())"
   ]
  },
  {
   "cell_type": "code",
   "execution_count": 28,
   "metadata": {},
   "outputs": [
    {
     "data": {
      "text/plain": [
       "98"
      ]
     },
     "execution_count": 28,
     "metadata": {},
     "output_type": "execute_result"
    }
   ],
   "source": [
    "df.loc['apple','bud']"
   ]
  },
  {
   "cell_type": "code",
   "execution_count": 29,
   "metadata": {},
   "outputs": [
    {
     "data": {
      "text/plain": [
       "bud       98\n",
       "green     57\n",
       "ripen     58\n",
       "rotten    13\n",
       "Name: apple, dtype: int32"
      ]
     },
     "execution_count": 29,
     "metadata": {},
     "output_type": "execute_result"
    }
   ],
   "source": [
    "df.loc['apple',:]"
   ]
  },
  {
   "cell_type": "code",
   "execution_count": 30,
   "metadata": {},
   "outputs": [
    {
     "data": {
      "text/plain": [
       "apple         58\n",
       "guava         72\n",
       "mango         56\n",
       "orange        56\n",
       "banana        89\n",
       "pear          21\n",
       "papaya        93\n",
       "strwberrey    20\n",
       "grape         39\n",
       "melon         20\n",
       "Name: ripen, dtype: int32"
      ]
     },
     "execution_count": 30,
     "metadata": {},
     "output_type": "execute_result"
    }
   ],
   "source": [
    "df.loc[:,'ripen']"
   ]
  },
  {
   "cell_type": "markdown",
   "metadata": {},
   "source": [
    "* P(ripen|apple) = ?"
   ]
  },
  {
   "cell_type": "code",
   "execution_count": 31,
   "metadata": {},
   "outputs": [
    {
     "data": {
      "text/plain": [
       "0.11068702290076336"
      ]
     },
     "execution_count": 31,
     "metadata": {},
     "output_type": "execute_result"
    }
   ],
   "source": [
    "df.loc['apple','ripen']/df.loc[:,'ripen'].sum()"
   ]
  },
  {
   "attachments": {
    "image.png": {
     "image/png": "[encoded data removed]"
    }
   },
   "cell_type": "markdown",
   "metadata": {},
   "source": [
    "#### Implementing Baye's theorem\n",
    "![image.png](attachment:image.png)"
   ]
  },
  {
   "cell_type": "code",
   "execution_count": null,
   "metadata": {},
   "outputs": [],
   "source": []
  },
  {
   "cell_type": "code",
   "execution_count": 32,
   "metadata": {},
   "outputs": [
    {
     "data": {
      "text/plain": [
       "0.11068702290076338"
      ]
     },
     "execution_count": 32,
     "metadata": {},
     "output_type": "execute_result"
    }
   ],
   "source": [
    "\n",
    "p_apple = df.loc['apple',:].sum()/sum(df.sum())\n",
    "p_ripen_given_apple = df.loc['apple','ripen']/df.loc['apple',:].sum()\n",
    "p_ripen = df.loc[:,'ripen'].sum()/sum(df.sum())\n",
    "\n",
    "p_apple_given_ripen = (p_ripen_given_apple*p_apple)/p_ripen\n",
    "p_apple_given_ripen"
   ]
  },
  {
   "cell_type": "markdown",
   "metadata": {},
   "source": [
    "##### Mini Assignment:\n",
    "1.Generate a randum array of size 10 by 10 and convert it to pandas dataframe with column name and row name of your interest\n",
    "\n",
    "2.Perform feature scaling (minimax scalar and standard scalar) by direct calculation of minimunm, maximum, mean, standard deviation from dataframe/array\n",
    "\n",
    "3.Implement Scikit-learn preprocessing pipeline to perform feature scaling"
   ]
  },
  {
   "cell_type": "markdown",
   "metadata": {},
   "source": [
    "###### 1.Generate a randum array of size 10 by 10 and convert it to pandas dataframe with column name and row name of your interest"
   ]
  },
  {
   "cell_type": "code",
   "execution_count": 37,
   "metadata": {},
   "outputs": [
    {
     "data": {
      "text/plain": [
       "array([[22, 79, 27, 30, 81, 46,  9, 60, 94,  7],\n",
       "       [90, 36, 61, 64, 56, 55, 60, 99, 49, 33],\n",
       "       [58, 34, 71, 44, 39,  9, 95, 28, 21,  3],\n",
       "       [17, 80, 60, 38,  7, 73, 87, 32,  1, 47],\n",
       "       [75, 73, 75, 52,  8, 75, 36, 36, 78, 18],\n",
       "       [84, 71,  7, 86, 67, 43, 43, 17, 22, 58],\n",
       "       [99, 95, 79, 72, 55, 19, 42, 93, 93, 11],\n",
       "       [58, 87, 11,  6, 74,  8, 32, 80, 28,  9],\n",
       "       [36, 11, 25, 41, 50, 97, 27, 95, 35, 23],\n",
       "       [42, 95, 64, 93, 47,  7, 34, 76, 85, 55]])"
      ]
     },
     "execution_count": 37,
     "metadata": {},
     "output_type": "execute_result"
    }
   ],
   "source": [
    "A = (100*np.random.rand(10,10)).astype(int)\n",
    "A"
   ]
  },
  {
   "cell_type": "code",
   "execution_count": 42,
   "metadata": {},
   "outputs": [],
   "source": [
    "df = pd.DataFrame(A, columns= ['Economics','maths','science','english','nepali','social','agriculture','physics','chemistry','biology'],\\\n",
    "                  index= ['Ram','Shyam','Hari','Krishna','pawan','jagrit','madhav','keshav','baburam','sishir'])"
   ]
  },
  {
   "cell_type": "code",
   "execution_count": 41,
   "metadata": {},
   "outputs": [
    {
     "data": {
      "text/html": [
       "<div>\n",
       "<style scoped>\n",
       "    .dataframe tbody tr th:only-of-type {\n",
       "        vertical-align: middle;\n",
       "    }\n",
       "\n",
       "    .dataframe tbody tr th {\n",
       "        vertical-align: top;\n",
       "    }\n",
       "\n",
       "    .dataframe thead th {\n",
       "        text-align: right;\n",
       "    }\n",
       "</style>\n",
       "<table border=\"1\" class=\"dataframe\">\n",
       "  <thead>\n",
       "    <tr style=\"text-align: right;\">\n",
       "      <th></th>\n",
       "      <th>Economics</th>\n",
       "      <th>maths</th>\n",
       "      <th>science</th>\n",
       "      <th>english</th>\n",
       "      <th>nepali</th>\n",
       "      <th>social</th>\n",
       "      <th>agriculture</th>\n",
       "      <th>physics</th>\n",
       "      <th>chemistry</th>\n",
       "      <th>biology</th>\n",
       "    </tr>\n",
       "  </thead>\n",
       "  <tbody>\n",
       "    <tr>\n",
       "      <th>Ram</th>\n",
       "      <td>22</td>\n",
       "      <td>79</td>\n",
       "      <td>27</td>\n",
       "      <td>30</td>\n",
       "      <td>81</td>\n",
       "      <td>46</td>\n",
       "      <td>9</td>\n",
       "      <td>60</td>\n",
       "      <td>94</td>\n",
       "      <td>7</td>\n",
       "    </tr>\n",
       "    <tr>\n",
       "      <th>Shyam</th>\n",
       "      <td>90</td>\n",
       "      <td>36</td>\n",
       "      <td>61</td>\n",
       "      <td>64</td>\n",
       "      <td>56</td>\n",
       "      <td>55</td>\n",
       "      <td>60</td>\n",
       "      <td>99</td>\n",
       "      <td>49</td>\n",
       "      <td>33</td>\n",
       "    </tr>\n",
       "    <tr>\n",
       "      <th>Hari</th>\n",
       "      <td>58</td>\n",
       "      <td>34</td>\n",
       "      <td>71</td>\n",
       "      <td>44</td>\n",
       "      <td>39</td>\n",
       "      <td>9</td>\n",
       "      <td>95</td>\n",
       "      <td>28</td>\n",
       "      <td>21</td>\n",
       "      <td>3</td>\n",
       "    </tr>\n",
       "    <tr>\n",
       "      <th>Krishna</th>\n",
       "      <td>17</td>\n",
       "      <td>80</td>\n",
       "      <td>60</td>\n",
       "      <td>38</td>\n",
       "      <td>7</td>\n",
       "      <td>73</td>\n",
       "      <td>87</td>\n",
       "      <td>32</td>\n",
       "      <td>1</td>\n",
       "      <td>47</td>\n",
       "    </tr>\n",
       "    <tr>\n",
       "      <th>pawan</th>\n",
       "      <td>75</td>\n",
       "      <td>73</td>\n",
       "      <td>75</td>\n",
       "      <td>52</td>\n",
       "      <td>8</td>\n",
       "      <td>75</td>\n",
       "      <td>36</td>\n",
       "      <td>36</td>\n",
       "      <td>78</td>\n",
       "      <td>18</td>\n",
       "    </tr>\n",
       "    <tr>\n",
       "      <th>jgrit</th>\n",
       "      <td>84</td>\n",
       "      <td>71</td>\n",
       "      <td>7</td>\n",
       "      <td>86</td>\n",
       "      <td>67</td>\n",
       "      <td>43</td>\n",
       "      <td>43</td>\n",
       "      <td>17</td>\n",
       "      <td>22</td>\n",
       "      <td>58</td>\n",
       "    </tr>\n",
       "    <tr>\n",
       "      <th>madhav</th>\n",
       "      <td>99</td>\n",
       "      <td>95</td>\n",
       "      <td>79</td>\n",
       "      <td>72</td>\n",
       "      <td>55</td>\n",
       "      <td>19</td>\n",
       "      <td>42</td>\n",
       "      <td>93</td>\n",
       "      <td>93</td>\n",
       "      <td>11</td>\n",
       "    </tr>\n",
       "    <tr>\n",
       "      <th>keshav</th>\n",
       "      <td>58</td>\n",
       "      <td>87</td>\n",
       "      <td>11</td>\n",
       "      <td>6</td>\n",
       "      <td>74</td>\n",
       "      <td>8</td>\n",
       "      <td>32</td>\n",
       "      <td>80</td>\n",
       "      <td>28</td>\n",
       "      <td>9</td>\n",
       "    </tr>\n",
       "    <tr>\n",
       "      <th>baburam</th>\n",
       "      <td>36</td>\n",
       "      <td>11</td>\n",
       "      <td>25</td>\n",
       "      <td>41</td>\n",
       "      <td>50</td>\n",
       "      <td>97</td>\n",
       "      <td>27</td>\n",
       "      <td>95</td>\n",
       "      <td>35</td>\n",
       "      <td>23</td>\n",
       "    </tr>\n",
       "    <tr>\n",
       "      <th>sishir</th>\n",
       "      <td>42</td>\n",
       "      <td>95</td>\n",
       "      <td>64</td>\n",
       "      <td>93</td>\n",
       "      <td>47</td>\n",
       "      <td>7</td>\n",
       "      <td>34</td>\n",
       "      <td>76</td>\n",
       "      <td>85</td>\n",
       "      <td>55</td>\n",
       "    </tr>\n",
       "  </tbody>\n",
       "</table>\n",
       "</div>"
      ],
      "text/plain": [
       "         Economics  maths  science  english  nepali  social  agriculture  \\\n",
       "Ram             22     79       27       30      81      46            9   \n",
       "Shyam           90     36       61       64      56      55           60   \n",
       "Hari            58     34       71       44      39       9           95   \n",
       "Krishna         17     80       60       38       7      73           87   \n",
       "pawan           75     73       75       52       8      75           36   \n",
       "jgrit           84     71        7       86      67      43           43   \n",
       "madhav          99     95       79       72      55      19           42   \n",
       "keshav          58     87       11        6      74       8           32   \n",
       "baburam         36     11       25       41      50      97           27   \n",
       "sishir          42     95       64       93      47       7           34   \n",
       "\n",
       "         physics  chemistry  biology  \n",
       "Ram           60         94        7  \n",
       "Shyam         99         49       33  \n",
       "Hari          28         21        3  \n",
       "Krishna       32          1       47  \n",
       "pawan         36         78       18  \n",
       "jgrit         17         22       58  \n",
       "madhav        93         93       11  \n",
       "keshav        80         28        9  \n",
       "baburam       95         35       23  \n",
       "sishir        76         85       55  "
      ]
     },
     "execution_count": 41,
     "metadata": {},
     "output_type": "execute_result"
    }
   ],
   "source": [
    "df"
   ]
  },
  {
   "cell_type": "markdown",
   "metadata": {},
   "source": [
    "#### 2.Perform feature scaling (minimax scalar and standard scalar) by direct calculation of minimunm, maximum, mean, standard deviation from dataframe/array"
   ]
  },
  {
   "cell_type": "code",
   "execution_count": 5,
   "metadata": {},
   "outputs": [],
   "source": [
    "import numpy as np\n",
    "import pandas as pd"
   ]
  },
  {
   "cell_type": "markdown",
   "metadata": {},
   "source": [
    "* Mini-max scalar"
   ]
  },
  {
   "cell_type": "code",
   "execution_count": 8,
   "metadata": {},
   "outputs": [
    {
     "data": {
      "text/plain": [
       "array([[177, 131, 173, 109,  97,  77, 110, 138,  12,  41,  88, 181],\n",
       "       [ 88,  56,  45,  92, 187, 168,  62, 173,  95, 102, 131,  31],\n",
       "       [  5,  37, 107,  64,  26, 191, 172,   3,   3,  17,  41, 196],\n",
       "       [192, 111,  43,  51, 137,  69, 140,  66, 127,  70,  47,  18],\n",
       "       [146, 115,  96,  73, 114, 161,  60, 193, 195, 188,   0,  89],\n",
       "       [159,  47,  36, 151,  62, 196,  76,  78, 111,  82, 150, 163],\n",
       "       [ 69, 160, 113,  45, 137,  55,  54, 196,  46,  65, 136, 116],\n",
       "       [121, 187,  92,  91, 191,  69,  29, 121,  50, 110, 132,  59],\n",
       "       [136, 106,  58,  55,  60, 108, 148, 176,  84,  98, 158,  92],\n",
       "       [ 15,  49,  30,   1, 102,  78,   0, 172, 138,  58,  19, 107],\n",
       "       [ 15, 117, 160, 188,  45,  33,  64,  41,  16, 117, 125,   4],\n",
       "       [ 23,  52, 168, 102, 110,  38, 140, 185,  94,  66,  66, 110]])"
      ]
     },
     "execution_count": 8,
     "metadata": {},
     "output_type": "execute_result"
    }
   ],
   "source": [
    "A = (200*np.random.rand(12,12)).astype(int)\n",
    "A"
   ]
  },
  {
   "cell_type": "code",
   "execution_count": 10,
   "metadata": {},
   "outputs": [
    {
     "data": {
      "text/plain": [
       "array([[71, 20, 60, 88, 33, 27, 65, 10, 91, 96],\n",
       "       [79, 45, 61, 76, 58, 62, 12, 16, 10, 30],\n",
       "       [53, 84, 46, 50, 40, 44,  9, 21, 62, 49],\n",
       "       [39, 22, 32, 83, 64, 49, 18, 94, 95, 58],\n",
       "       [41,  1, 16, 37,  8, 35, 55, 92, 37, 15],\n",
       "       [61, 69, 27, 91,  7,  3, 34, 41,  1, 79],\n",
       "       [91, 60,  4, 55, 32, 48, 99, 16, 67, 33],\n",
       "       [57, 79,  2, 83, 77, 52, 11, 53, 76, 60],\n",
       "       [81, 13,  9, 86, 26, 52, 73, 54, 78,  4],\n",
       "       [32, 65, 41, 36, 61, 16, 90, 67, 96,  8]])"
      ]
     },
     "execution_count": 10,
     "metadata": {},
     "output_type": "execute_result"
    }
   ],
   "source": [
    "A = (100*np.random.rand(10,10)).astype(int)\n",
    "A\n"
   ]
  },
  {
   "cell_type": "code",
   "execution_count": 12,
   "metadata": {},
   "outputs": [],
   "source": [
    "\n",
    "A_mm = (A - A.min())/(A.max()-A.min())"
   ]
  },
  {
   "cell_type": "code",
   "execution_count": 13,
   "metadata": {},
   "outputs": [
    {
     "data": {
      "text/plain": [
       "array([[0.71428571, 0.19387755, 0.60204082, 0.8877551 , 0.32653061,\n",
       "        0.26530612, 0.65306122, 0.09183673, 0.91836735, 0.96938776],\n",
       "       [0.79591837, 0.44897959, 0.6122449 , 0.76530612, 0.58163265,\n",
       "        0.62244898, 0.1122449 , 0.15306122, 0.09183673, 0.29591837],\n",
       "       [0.53061224, 0.84693878, 0.45918367, 0.5       , 0.39795918,\n",
       "        0.43877551, 0.08163265, 0.20408163, 0.62244898, 0.48979592],\n",
       "       [0.3877551 , 0.21428571, 0.31632653, 0.83673469, 0.64285714,\n",
       "        0.48979592, 0.17346939, 0.94897959, 0.95918367, 0.58163265],\n",
       "       [0.40816327, 0.        , 0.15306122, 0.36734694, 0.07142857,\n",
       "        0.34693878, 0.55102041, 0.92857143, 0.36734694, 0.14285714],\n",
       "       [0.6122449 , 0.69387755, 0.26530612, 0.91836735, 0.06122449,\n",
       "        0.02040816, 0.33673469, 0.40816327, 0.        , 0.79591837],\n",
       "       [0.91836735, 0.60204082, 0.03061224, 0.55102041, 0.31632653,\n",
       "        0.47959184, 1.        , 0.15306122, 0.67346939, 0.32653061],\n",
       "       [0.57142857, 0.79591837, 0.01020408, 0.83673469, 0.7755102 ,\n",
       "        0.52040816, 0.10204082, 0.53061224, 0.76530612, 0.60204082],\n",
       "       [0.81632653, 0.12244898, 0.08163265, 0.86734694, 0.25510204,\n",
       "        0.52040816, 0.73469388, 0.54081633, 0.78571429, 0.03061224],\n",
       "       [0.31632653, 0.65306122, 0.40816327, 0.35714286, 0.6122449 ,\n",
       "        0.15306122, 0.90816327, 0.67346939, 0.96938776, 0.07142857]])"
      ]
     },
     "execution_count": 13,
     "metadata": {},
     "output_type": "execute_result"
    }
   ],
   "source": [
    "A_mm"
   ]
  },
  {
   "cell_type": "code",
   "execution_count": 14,
   "metadata": {},
   "outputs": [
    {
     "data": {
      "text/plain": [
       "array([[0.66101695, 0.22891566, 0.98305085, 0.94545455, 0.37142857,\n",
       "        0.40677966, 0.62222222, 0.        , 0.94736842, 1.        ],\n",
       "       [0.79661017, 0.53012048, 1.        , 0.72727273, 0.72857143,\n",
       "        1.        , 0.03333333, 0.07142857, 0.09473684, 0.2826087 ],\n",
       "       [0.3559322 , 1.        , 0.74576271, 0.25454545, 0.47142857,\n",
       "        0.69491525, 0.        , 0.13095238, 0.64210526, 0.48913043],\n",
       "       [0.11864407, 0.25301205, 0.50847458, 0.85454545, 0.81428571,\n",
       "        0.77966102, 0.1       , 1.        , 0.98947368, 0.58695652],\n",
       "       [0.15254237, 0.        , 0.23728814, 0.01818182, 0.01428571,\n",
       "        0.54237288, 0.51111111, 0.97619048, 0.37894737, 0.11956522],\n",
       "       [0.49152542, 0.81927711, 0.42372881, 1.        , 0.        ,\n",
       "        0.        , 0.27777778, 0.36904762, 0.        , 0.81521739],\n",
       "       [1.        , 0.71084337, 0.03389831, 0.34545455, 0.35714286,\n",
       "        0.76271186, 1.        , 0.07142857, 0.69473684, 0.31521739],\n",
       "       [0.42372881, 0.93975904, 0.        , 0.85454545, 1.        ,\n",
       "        0.83050847, 0.02222222, 0.51190476, 0.78947368, 0.60869565],\n",
       "       [0.83050847, 0.14457831, 0.11864407, 0.90909091, 0.27142857,\n",
       "        0.83050847, 0.71111111, 0.52380952, 0.81052632, 0.        ],\n",
       "       [0.        , 0.77108434, 0.66101695, 0.        , 0.77142857,\n",
       "        0.22033898, 0.9       , 0.67857143, 1.        , 0.04347826]])"
      ]
     },
     "execution_count": 14,
     "metadata": {},
     "output_type": "execute_result"
    }
   ],
   "source": [
    "from sklearn import preprocessing\n",
    "\n",
    "A_scaled = preprocessing.MinMaxScaler().fit(A).transform(A)\n",
    "A_scaled"
   ]
  },
  {
   "cell_type": "markdown",
   "metadata": {},
   "source": [
    "* Standard Scalar"
   ]
  },
  {
   "cell_type": "code",
   "execution_count": 16,
   "metadata": {},
   "outputs": [
    {
     "data": {
      "text/plain": [
       "array([[ 0, 55, 41, 64,  9, 89, 17, 20, 92, 30, 18, 39],\n",
       "       [74, 89,  7, 38, 68, 58, 59, 31, 96, 91, 44, 26],\n",
       "       [74, 29, 83, 96, 79, 63, 52, 64, 77, 82, 76, 89],\n",
       "       [33, 62, 95, 40, 93, 14, 67, 22, 13, 34, 85, 67],\n",
       "       [30, 85, 33, 44, 13, 22,  9, 40, 30,  2, 62, 60],\n",
       "       [16, 68, 86, 56, 68, 83, 43, 77, 36, 98, 75, 61],\n",
       "       [52, 28, 59, 74, 38, 63,  9, 54, 40, 47, 16, 61],\n",
       "       [39, 20, 28, 64, 94, 68,  4, 86, 19, 74, 97, 18],\n",
       "       [57, 14, 28, 29, 21, 29, 27, 90, 70, 64, 66, 33],\n",
       "       [53, 66, 63, 34, 39, 62, 26, 23, 83, 73, 73, 10],\n",
       "       [30, 32, 10, 75, 79, 95, 18, 54, 85, 91, 10, 99],\n",
       "       [24, 36, 35,  9, 23, 45,  0,  2, 25, 56, 36, 44]])"
      ]
     },
     "execution_count": 16,
     "metadata": {},
     "output_type": "execute_result"
    }
   ],
   "source": [
    "A = (100*np.random.rand(12,12)).astype(int)\n",
    "A"
   ]
  },
  {
   "cell_type": "code",
   "execution_count": 18,
   "metadata": {},
   "outputs": [
    {
     "data": {
      "text/plain": [
       "array([[-1.79793729, 53.20206271, 39.20206271, 62.20206271,  7.20206271,\n",
       "        87.20206271, 15.20206271, 18.20206271, 90.20206271, 28.20206271,\n",
       "        16.20206271, 37.20206271],\n",
       "       [72.20206271, 87.20206271,  5.20206271, 36.20206271, 66.20206271,\n",
       "        56.20206271, 57.20206271, 29.20206271, 94.20206271, 89.20206271,\n",
       "        42.20206271, 24.20206271],\n",
       "       [72.20206271, 27.20206271, 81.20206271, 94.20206271, 77.20206271,\n",
       "        61.20206271, 50.20206271, 62.20206271, 75.20206271, 80.20206271,\n",
       "        74.20206271, 87.20206271],\n",
       "       [31.20206271, 60.20206271, 93.20206271, 38.20206271, 91.20206271,\n",
       "        12.20206271, 65.20206271, 20.20206271, 11.20206271, 32.20206271,\n",
       "        83.20206271, 65.20206271],\n",
       "       [28.20206271, 83.20206271, 31.20206271, 42.20206271, 11.20206271,\n",
       "        20.20206271,  7.20206271, 38.20206271, 28.20206271,  0.20206271,\n",
       "        60.20206271, 58.20206271],\n",
       "       [14.20206271, 66.20206271, 84.20206271, 54.20206271, 66.20206271,\n",
       "        81.20206271, 41.20206271, 75.20206271, 34.20206271, 96.20206271,\n",
       "        73.20206271, 59.20206271],\n",
       "       [50.20206271, 26.20206271, 57.20206271, 72.20206271, 36.20206271,\n",
       "        61.20206271,  7.20206271, 52.20206271, 38.20206271, 45.20206271,\n",
       "        14.20206271, 59.20206271],\n",
       "       [37.20206271, 18.20206271, 26.20206271, 62.20206271, 92.20206271,\n",
       "        66.20206271,  2.20206271, 84.20206271, 17.20206271, 72.20206271,\n",
       "        95.20206271, 16.20206271],\n",
       "       [55.20206271, 12.20206271, 26.20206271, 27.20206271, 19.20206271,\n",
       "        27.20206271, 25.20206271, 88.20206271, 68.20206271, 62.20206271,\n",
       "        64.20206271, 31.20206271],\n",
       "       [51.20206271, 64.20206271, 61.20206271, 32.20206271, 37.20206271,\n",
       "        60.20206271, 24.20206271, 21.20206271, 81.20206271, 71.20206271,\n",
       "        71.20206271,  8.20206271],\n",
       "       [28.20206271, 30.20206271,  8.20206271, 73.20206271, 77.20206271,\n",
       "        93.20206271, 16.20206271, 52.20206271, 83.20206271, 89.20206271,\n",
       "         8.20206271, 97.20206271],\n",
       "       [22.20206271, 34.20206271, 33.20206271,  7.20206271, 21.20206271,\n",
       "        43.20206271, -1.79793729,  0.20206271, 23.20206271, 54.20206271,\n",
       "        34.20206271, 42.20206271]])"
      ]
     },
     "execution_count": 18,
     "metadata": {},
     "output_type": "execute_result"
    }
   ],
   "source": [
    "A_ss = A - A.mean()/A.std()\n",
    "\n",
    "A_ss"
   ]
  },
  {
   "cell_type": "code",
   "execution_count": 19,
   "metadata": {},
   "outputs": [
    {
     "data": {
      "text/plain": [
       "array([[-1.86007518,  0.2601032 , -0.22407281,  0.52491117, -1.42335215,\n",
       "         1.26848337, -0.49039867, -0.98742597,  1.2274543 , -1.14252515,\n",
       "        -1.3163393 , -0.44325323],\n",
       "       [ 1.56678532,  1.65644668, -1.42698998, -0.60455286,  0.5296194 ,\n",
       "         0.01682339,  1.45575037, -0.58389585,  1.36196984,  1.04681624,\n",
       "        -0.38715862, -0.94071728],\n",
       "       [ 1.56678532, -0.80768888,  1.26188371,  1.91502074,  0.89373274,\n",
       "         0.21870403,  1.1313922 ,  0.6266945 ,  0.72302102,  0.72379866,\n",
       "         0.75644837,  1.47007006],\n",
       "       [-0.33188063,  0.54758568,  1.68644271, -0.51767101,  1.35714972,\n",
       "        -1.75972626,  1.82644543, -0.91405686, -1.4292276 , -0.99896178,\n",
       "         1.07808784,  0.62820781],\n",
       "       [-0.47080741,  1.49217097, -0.50711214, -0.34390732, -1.2909473 ,\n",
       "        -1.43671723, -0.86109372, -0.25373485, -0.85753656, -2.14746874,\n",
       "         0.25612032,  0.36034255],\n",
       "       [-1.11913237,  0.79399923,  1.36802346,  0.17738377,  0.5296194 ,\n",
       "         1.0262266 ,  0.71436026,  1.10359373, -0.65576325,  1.29805214,\n",
       "         0.72071065,  0.39860902],\n",
       "       [ 0.54798895, -0.8487578 ,  0.4127657 ,  0.95932041, -0.46341698,\n",
       "         0.21870403, -0.86109372,  0.25984894, -0.52124771, -0.53238083,\n",
       "        -1.38781473,  0.39860902],\n",
       "       [-0.05402708, -1.17730921, -0.68401173,  0.52491117,  1.39025094,\n",
       "         0.42058467, -1.09277813,  1.43375474, -1.2274543 ,  0.43667192,\n",
       "         1.50694046, -1.24684901],\n",
       "       [ 0.77953358, -1.42372276, -0.68401173, -0.99552118, -1.02613759,\n",
       "        -1.15408434, -0.02702985,  1.58049296,  0.48761883,  0.07776349,\n",
       "         0.39907119, -0.67285202],\n",
       "       [ 0.59429788,  0.71186138,  0.55428537, -0.77831656, -0.43031577,\n",
       "         0.1783279 , -0.07336673, -0.8773723 ,  0.92479433,  0.40078107,\n",
       "         0.64923522, -1.55298073],\n",
       "       [-0.47080741, -0.6844821 , -1.32085023,  1.00276133,  0.89373274,\n",
       "         1.51074014, -0.44406178,  0.25984894,  0.9920521 ,  1.04681624,\n",
       "        -1.60224104,  1.85273471],\n",
       "       [-0.74866096, -0.52020639, -0.43635231, -1.86433966, -0.95993517,\n",
       "        -0.50806628, -1.27812566, -1.64774798, -1.02568099, -0.20936325,\n",
       "        -0.67306036, -0.2519209 ]])"
      ]
     },
     "execution_count": 19,
     "metadata": {},
     "output_type": "execute_result"
    }
   ],
   "source": [
    "from sklearn import preprocessing\n",
    "\n",
    "A_scaled = preprocessing.StandardScaler().fit(A).transform(A)\n",
    "A_scaled"
   ]
  },
  {
   "cell_type": "code",
   "execution_count": null,
   "metadata": {},
   "outputs": [],
   "source": []
  }
 ],
 "metadata": {
  "kernelspec": {
   "display_name": "Python 3",
   "language": "python",
   "name": "python3"
  },
  "language_info": {
   "codemirror_mode": {
    "name": "ipython",
    "version": 3
   },
   "file_extension": ".py",
   "mimetype": "text/x-python",
   "name": "python",
   "nbconvert_exporter": "python",
   "pygments_lexer": "ipython3",
   "version": "3.7.6"
  }
 },
 "nbformat": 4,
 "nbformat_minor": 4
}
