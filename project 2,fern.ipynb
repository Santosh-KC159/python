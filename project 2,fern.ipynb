{
 "cells": [
  {
   "cell_type": "markdown",
   "metadata": {},
   "source": [
    "### Project: Fractals"
   ]
  },
  {
   "cell_type": "markdown",
   "metadata": {},
   "source": [
    "\n",
    "##### Fern :"
   ]
  },
  {
   "cell_type": "markdown",
   "metadata": {},
   "source": [
    "Fern can be created by implementation of if loops and while loop. We will discuss three different approaches to create fern."
   ]
  },
  {
   "cell_type": "markdown",
   "metadata": {},
   "source": [
    "#### Method 1: Direct implementation"
   ]
  },
  {
   "cell_type": "code",
   "execution_count": null,
   "metadata": {},
   "outputs": [],
   "source": [
    "import matplotlib.pyplot as plt\n",
    "import seaborn as sns\n",
    "import random as random\n",
    "%matplotlib inline\n",
    "sns.set()"
   ]
  },
  {
   "cell_type": "code",
   "execution_count": null,
   "metadata": {},
   "outputs": [],
   "source": [
    "import random as random\n",
    "x = 0\n",
    "y = 0\n",
    "X = [x]\n",
    "Y = [y]\n",
    "n=1\n",
    "isprint = False\n",
    "while n < 1000000:\n",
    "    r = random.uniform(0,100)\n",
    "    if r <  1.0:\n",
    "        x = 0\n",
    "        y = 0.16*Y[n-1]\n",
    "        X.append(x) ; Y.append(y)\n",
    "        \n",
    "    elif r > 1.0 and r < 86.0:\n",
    "        x = 0.85*X[n-1] + 0.04*Y[n-1]\n",
    "        y = -0.04*X[n-1] + 0.85*Y[n-1]+1.6\n",
    "        X.append(x);Y.append(y)\n",
    "    elif r > 86.0 and r < 93.0:\n",
    "        x = 0.2*X[n-1] - 0.26*Y[n-1]\n",
    "        y = 0.23*X[n-1] + 0.22*Y[n-1] + 1.6\n",
    "        \n",
    "        X.append(x);Y.append(y)\n",
    "    \n",
    "    elif r > 93.0 and r < 100.0:\n",
    "        x = -0.15*X[n-1] + 0.28*Y[n-1]\n",
    "        y = 0.26*X[n-1] + 0.24*Y[n-1] + 0.44\n",
    "        \n",
    "        X.append(x);Y.append(y)\n",
    "        \n",
    "    if isprint:\n",
    "        print(\"step: \",n,\"random number is: \", r, \"coordinate is : \", x,y)\n",
    "        \n",
    "    n = n+1"
   ]
  },
  {
   "cell_type": "code",
   "execution_count": 2,
   "metadata": {},
   "outputs": [
    {
     "ename": "NameError",
     "evalue": "name 'plt' is not defined",
     "output_type": "error",
     "traceback": [
      "\u001b[1;31m---------------------------------------------------------------------------\u001b[0m",
      "\u001b[1;31mNameError\u001b[0m                                 Traceback (most recent call last)",
      "\u001b[1;32m<ipython-input-2-85ab9036aa47>\u001b[0m in \u001b[0;36m<module>\u001b[1;34m\u001b[0m\n\u001b[1;32m----> 1\u001b[1;33m \u001b[0mplt\u001b[0m\u001b[1;33m.\u001b[0m\u001b[0mfigure\u001b[0m\u001b[1;33m(\u001b[0m\u001b[0mfigsize\u001b[0m \u001b[1;33m=\u001b[0m \u001b[1;33m[\u001b[0m\u001b[1;36m5\u001b[0m\u001b[1;33m,\u001b[0m\u001b[1;36m8\u001b[0m\u001b[1;33m]\u001b[0m\u001b[1;33m)\u001b[0m\u001b[1;33m\u001b[0m\u001b[1;33m\u001b[0m\u001b[0m\n\u001b[0m\u001b[0;32m      2\u001b[0m \u001b[0mplt\u001b[0m\u001b[1;33m.\u001b[0m\u001b[0mscatter\u001b[0m\u001b[1;33m(\u001b[0m\u001b[0mX\u001b[0m\u001b[1;33m,\u001b[0m\u001b[0mY\u001b[0m\u001b[1;33m,\u001b[0m\u001b[0mcolor\u001b[0m \u001b[1;33m=\u001b[0m \u001b[1;34m'g'\u001b[0m\u001b[1;33m,\u001b[0m\u001b[0mmarker\u001b[0m \u001b[1;33m=\u001b[0m \u001b[1;34m'.'\u001b[0m\u001b[1;33m)\u001b[0m\u001b[1;33m\u001b[0m\u001b[1;33m\u001b[0m\u001b[0m\n\u001b[0;32m      3\u001b[0m \u001b[0mplt\u001b[0m\u001b[1;33m.\u001b[0m\u001b[0mshow\u001b[0m\u001b[1;33m(\u001b[0m\u001b[1;33m)\u001b[0m\u001b[1;33m\u001b[0m\u001b[1;33m\u001b[0m\u001b[0m\n",
      "\u001b[1;31mNameError\u001b[0m: name 'plt' is not defined"
     ]
    }
   ],
   "source": [
    "plt.figure(figsize = [5,8])\n",
    "plt.scatter(X,Y,color = 'g',marker = '.')\n",
    "plt.show()"
   ]
  },
  {
   "cell_type": "markdown",
   "metadata": {},
   "source": [
    "#### Method-2 : Manual Matrix Multiplication"
   ]
  },
  {
   "cell_type": "markdown",
   "metadata": {},
   "source": [
    "\n",
    "In this method we first define matrices. Then we will manually multiply these matrices to get desired plot of fern. This correspond to the following transformations:\n",
    "\n",
    "$ f_{1}(x,y)={\\begin{bmatrix}\\ 0.00 &amp; \\ 0.00\\ \\\\\n",
    "                       0.00&amp;\\ 0.16\\end{bmatrix}}{\\begin{bmatrix}\\ x \\\\ y\\end{bmatrix}} $\n",
    "\n",
    "$  f_{2}(x,y)={\\begin{bmatrix}\\ 0.85&amp;\\ 0.04\\ \\\\ -0.04&amp;\\ 0.85\\end{bmatrix}}{\\begin{bmatrix}\\ x \\\\ y\\end{bmatrix}}+{\\begin{bmatrix}\\ 0.00 \\\\ 1.60\\end{bmatrix}} $\n",
    "\n",
    "$  f_{3}(x,y)={\\begin{bmatrix}\\ 0.20&amp;\\ -0.26\\ \\\\ 0.23&amp;\\ 0.22\\end{bmatrix}}{\\begin{bmatrix}\\ x \\\\ y\\end{bmatrix}}+{\\begin{bmatrix}\\ 0.00 \\\\ 1.60\\end{bmatrix}} $\n",
    "\n",
    "$ f_{4}(x,y)={\\begin{bmatrix}\\ -0.15&amp;\\ 0.28\\ \\\\ 0.26&amp;\\ 0.24\\end{bmatrix}}{\\begin{bmatrix}\\ x \\\\ y\\end{bmatrix}}+{\\begin{bmatrix}\\ 0.00 \\\\ 0.44\\end{bmatrix}} $"
   ]
  },
  {
   "cell_type": "code",
   "execution_count": null,
   "metadata": {},
   "outputs": [],
   "source": [
    "import numpy as np"
   ]
  },
  {
   "cell_type": "markdown",
   "metadata": {},
   "source": [
    "* To define number of iteration."
   ]
  },
  {
   "cell_type": "code",
   "execution_count": null,
   "metadata": {},
   "outputs": [],
   "source": [
    "ITR = 100000"
   ]
  },
  {
   "cell_type": "markdown",
   "metadata": {},
   "source": [
    "* To define matrices using numpy"
   ]
  },
  {
   "cell_type": "code",
   "execution_count": null,
   "metadata": {},
   "outputs": [],
   "source": [
    "x = np.array([[0.0,0.0] for k in range(ITR)])\n",
    "A = np.array([[0.0,0.0],[0.0,0.16]])\n",
    "B = np.array([[0.85,0.04],[-0.04,0.85]])\n",
    "C = np.array([[0.20,-0.26],[0.23,0.22]])\n",
    "D = np.array([[-0.15,0.28],[0.26,0.24]])\n",
    "AD = np.array([[0.0,0.0],\n",
    "             [0.0,1.6],\n",
    "             [0.0,1.6],\n",
    "             [0.0,0.44]])"
   ]
  },
  {
   "cell_type": "markdown",
   "metadata": {},
   "source": [
    "* To implement transformation"
   ]
  },
  {
   "cell_type": "code",
   "execution_count": null,
   "metadata": {},
   "outputs": [],
   "source": [
    "X =[]\n",
    "Y = []\n",
    "x[0,0] = 0.0\n",
    "x[0,1] = 0.0\n",
    "t = 0\n",
    "while t < ITR:\n",
    "    ct = random.uniform(0,100)\n",
    "    '''First condition'''\n",
    "    if ct < 1.0:       \n",
    "        for p in range(2):\n",
    "            x[t,p] = 0.0\n",
    "            for q in range(2):\n",
    "                x[t,p] = x[t,p] + A[p,q]*x[t-1,q] \n",
    "        '''second condition'''            \n",
    "    elif ct > 1.0 and ct < 86.0:\n",
    "        for p  in range(2):\n",
    "            x[t,p] = 0.0\n",
    "            for q in range(2):\n",
    "                x[t,p] = x[t,p] + B[p,q]*x[t-1,q]    \n",
    "        for  p in range(2):\n",
    "            x[t,p] = x[t,p]  + AD[1,p]\n",
    "        '''third condition'''                 \n",
    "    elif ct > 86.0 and ct < 93.0:\n",
    "        for p  in range(2):\n",
    "            x[t,p] = 0.0\n",
    "            for q  in range(2):\n",
    "                x[t,p] = x[t,p] + C[p,q]*x[t-1,q]      \n",
    "        for p in range(2):\n",
    "            x[t,p] = x[t,p]  + AD[2,p]\n",
    "        '''fourth condition '''                 \n",
    "    elif  ct > 93.0 and ct < 100.0:\n",
    "        for p in range(2):\n",
    "            x[1,p] = 0.0\n",
    "            for q  in range(2):\n",
    "                x[t,p] = x[t,p] + D[p,q]*x[t-1,q]       \n",
    "        for p in range(2):\n",
    "            x[t,p] = x[t,p]  + AD[3,p]\n",
    "\n",
    "    X.append(x[t,0])\n",
    "    Y.append(x[t,1])\n",
    "    t = t +1"
   ]
  },
  {
   "cell_type": "markdown",
   "metadata": {},
   "source": [
    "* To get the plot"
   ]
  },
  {
   "cell_type": "code",
   "execution_count": 3,
   "metadata": {},
   "outputs": [
    {
     "ename": "NameError",
     "evalue": "name 'plt' is not defined",
     "output_type": "error",
     "traceback": [
      "\u001b[1;31m---------------------------------------------------------------------------\u001b[0m",
      "\u001b[1;31mNameError\u001b[0m                                 Traceback (most recent call last)",
      "\u001b[1;32m<ipython-input-3-ca7a3a661ce8>\u001b[0m in \u001b[0;36m<module>\u001b[1;34m\u001b[0m\n\u001b[1;32m----> 1\u001b[1;33m \u001b[0mplt\u001b[0m\u001b[1;33m.\u001b[0m\u001b[0mfigure\u001b[0m\u001b[1;33m(\u001b[0m\u001b[0mfigsize\u001b[0m \u001b[1;33m=\u001b[0m \u001b[1;33m[\u001b[0m\u001b[1;36m5\u001b[0m\u001b[1;33m,\u001b[0m\u001b[1;36m8\u001b[0m\u001b[1;33m]\u001b[0m\u001b[1;33m)\u001b[0m\u001b[1;33m\u001b[0m\u001b[1;33m\u001b[0m\u001b[0m\n\u001b[0m\u001b[0;32m      2\u001b[0m \u001b[0mplt\u001b[0m\u001b[1;33m.\u001b[0m\u001b[0mscatter\u001b[0m\u001b[1;33m(\u001b[0m\u001b[0mX\u001b[0m\u001b[1;33m,\u001b[0m\u001b[0mY\u001b[0m\u001b[1;33m,\u001b[0m\u001b[0mcolor\u001b[0m \u001b[1;33m=\u001b[0m \u001b[1;34m'blue'\u001b[0m\u001b[1;33m,\u001b[0m\u001b[0mmarker\u001b[0m \u001b[1;33m=\u001b[0m \u001b[1;34m'.'\u001b[0m\u001b[1;33m)\u001b[0m\u001b[1;33m\u001b[0m\u001b[1;33m\u001b[0m\u001b[0m\n\u001b[0;32m      3\u001b[0m \u001b[0mplt\u001b[0m\u001b[1;33m.\u001b[0m\u001b[0mshow\u001b[0m\u001b[1;33m(\u001b[0m\u001b[1;33m)\u001b[0m\u001b[1;33m\u001b[0m\u001b[1;33m\u001b[0m\u001b[0m\n",
      "\u001b[1;31mNameError\u001b[0m: name 'plt' is not defined"
     ]
    }
   ],
   "source": [
    "plt.figure(figsize = [5,8])\n",
    "plt.scatter(X,Y,color = 'blue',marker = '.')\n",
    "plt.show()"
   ]
  },
  {
   "cell_type": "code",
   "execution_count": null,
   "metadata": {},
   "outputs": [],
   "source": []
  }
 ],
 "metadata": {
  "kernelspec": {
   "display_name": "Python 3",
   "language": "python",
   "name": "python3"
  },
  "language_info": {
   "codemirror_mode": {
    "name": "ipython",
    "version": 3
   },
   "file_extension": ".py",
   "mimetype": "text/x-python",
   "name": "python",
   "nbconvert_exporter": "python",
   "pygments_lexer": "ipython3",
   "version": "3.7.6"
  }
 },
 "nbformat": 4,
 "nbformat_minor": 4
}
