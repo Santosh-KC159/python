{
 "cells": [
  {
   "cell_type": "markdown",
   "metadata": {},
   "source": [
    "# Fundamentals Data Structure"
   ]
  },
  {
   "cell_type": "code",
   "execution_count": null,
   "metadata": {},
   "outputs": [],
   "source": []
  },
  {
   "cell_type": "markdown",
   "metadata": {},
   "source": [
    "The Fundamental data structure in python primaraily concerned with\n",
    "* ###### primitive type(Integer ,float ,string,and Bloolean)\n",
    "* ###### Non-primitive Type(Arry, List, Tuples, Dictionary, Set, and File)\n",
    "\n",
    "\n",
    "In this tuitorial, we are going to discuss about list,tuples,set and dictionary"
   ]
  },
  {
   "cell_type": "markdown",
   "metadata": {},
   "source": [
    "## list\n",
    "\n",
    "list is built in data structure in python. it is \n",
    "* mutable i.e.  we can change or edite the size of the list by appending, inserting and deleting the elements.\n",
    "* List can hold heterogeneous objects (e.g., integer, string, boolean)\n",
    "\n",
    "Lets try to understand the List:\n",
    "\n",
    "\n",
    "* To initiate a blank List"
   ]
  },
  {
   "cell_type": "markdown",
   "metadata": {},
   "source": [
    "\n",
    "\n",
    "I = []"
   ]
  },
  {
   "cell_type": "markdown",
   "metadata": {},
   "source": [
    "* To find the type of object"
   ]
  },
  {
   "cell_type": "code",
   "execution_count": 7,
   "metadata": {},
   "outputs": [
    {
     "data": {
      "text/plain": [
       "list"
      ]
     },
     "execution_count": 7,
     "metadata": {},
     "output_type": "execute_result"
    }
   ],
   "source": [
    "type(I)"
   ]
  },
  {
   "cell_type": "markdown",
   "metadata": {},
   "source": [
    "* To create the list from scratch "
   ]
  },
  {
   "cell_type": "code",
   "execution_count": 8,
   "metadata": {},
   "outputs": [],
   "source": [
    "k =[1 ,2 ,3, 4, 5, 6]"
   ]
  },
  {
   "cell_type": "code",
   "execution_count": 9,
   "metadata": {},
   "outputs": [
    {
     "data": {
      "text/plain": [
       "[1, 2, 3, 4, 5, 6]"
      ]
     },
     "execution_count": 9,
     "metadata": {},
     "output_type": "execute_result"
    }
   ],
   "source": [
    "k"
   ]
  },
  {
   "cell_type": "markdown",
   "metadata": {},
   "source": [
    "* indexing of list"
   ]
  },
  {
   "cell_type": "code",
   "execution_count": 11,
   "metadata": {},
   "outputs": [
    {
     "data": {
      "text/plain": [
       "(1, 3, 2)"
      ]
     },
     "execution_count": 11,
     "metadata": {},
     "output_type": "execute_result"
    }
   ],
   "source": [
    "k[0] ,k[2], k[1]"
   ]
  },
  {
   "cell_type": "markdown",
   "metadata": {},
   "source": [
    "* Reverse indexing is also possible "
   ]
  },
  {
   "cell_type": "code",
   "execution_count": 14,
   "metadata": {},
   "outputs": [
    {
     "data": {
      "text/plain": [
       "(6, 5, 4)"
      ]
     },
     "execution_count": 14,
     "metadata": {},
     "output_type": "execute_result"
    }
   ],
   "source": [
    "k[-1], k[-2], k[-3]"
   ]
  },
  {
   "cell_type": "markdown",
   "metadata": {},
   "source": [
    "* To find the length of list."
   ]
  },
  {
   "cell_type": "markdown",
   "metadata": {},
   "source": []
  },
  {
   "cell_type": "code",
   "execution_count": 21,
   "metadata": {},
   "outputs": [
    {
     "data": {
      "text/plain": [
       "6"
      ]
     },
     "execution_count": 21,
     "metadata": {},
     "output_type": "execute_result"
    }
   ],
   "source": [
    "len(k)"
   ]
  },
  {
   "cell_type": "markdown",
   "metadata": {},
   "source": [
    "* To add the element from last"
   ]
  },
  {
   "cell_type": "code",
   "execution_count": 23,
   "metadata": {},
   "outputs": [],
   "source": [
    "k.append(7)"
   ]
  },
  {
   "cell_type": "code",
   "execution_count": 24,
   "metadata": {},
   "outputs": [
    {
     "data": {
      "text/plain": [
       "[1, 2, 3, 4, 5, 6, 7, 7]"
      ]
     },
     "execution_count": 24,
     "metadata": {},
     "output_type": "execute_result"
    }
   ],
   "source": [
    "k"
   ]
  },
  {
   "cell_type": "markdown",
   "metadata": {},
   "source": [
    "* To find the sum of the elements(If they are of same types like integer double)"
   ]
  },
  {
   "cell_type": "code",
   "execution_count": 29,
   "metadata": {},
   "outputs": [
    {
     "data": {
      "text/plain": [
       "35"
      ]
     },
     "execution_count": 29,
     "metadata": {},
     "output_type": "execute_result"
    }
   ],
   "source": [
    "sum(k)"
   ]
  },
  {
   "cell_type": "markdown",
   "metadata": {},
   "source": [
    "* To find the maximum and minimum of the list "
   ]
  },
  {
   "cell_type": "code",
   "execution_count": 30,
   "metadata": {},
   "outputs": [
    {
     "data": {
      "text/plain": [
       "(7, 1)"
      ]
     },
     "execution_count": 30,
     "metadata": {},
     "output_type": "execute_result"
    }
   ],
   "source": [
    "max(k), min(k)"
   ]
  },
  {
   "cell_type": "markdown",
   "metadata": {},
   "source": [
    "* To creat the list of heterogenous elements types"
   ]
  },
  {
   "cell_type": "code",
   "execution_count": 43,
   "metadata": {},
   "outputs": [
    {
     "data": {
      "text/plain": [
       "[1, 2.0, 3, 4, 5, 'Apple', True, False]"
      ]
     },
     "execution_count": 43,
     "metadata": {},
     "output_type": "execute_result"
    }
   ],
   "source": [
    "k=[1,2.0,3,4,5,\"Apple\",True, False]\n",
    "k"
   ]
  },
  {
   "cell_type": "code",
   "execution_count": 33,
   "metadata": {},
   "outputs": [
    {
     "data": {
      "text/plain": [
       "[1, 2.0, 3, 4, 5]"
      ]
     },
     "execution_count": 33,
     "metadata": {},
     "output_type": "execute_result"
    }
   ],
   "source": [
    "k=[1,2.0,3,4,5]\n",
    "k"
   ]
  },
  {
   "cell_type": "markdown",
   "metadata": {},
   "source": [
    "* To find the type of elements of a list"
   ]
  },
  {
   "cell_type": "code",
   "execution_count": 36,
   "metadata": {},
   "outputs": [
    {
     "data": {
      "text/plain": [
       "(list, list, list)"
      ]
     },
     "execution_count": 36,
     "metadata": {},
     "output_type": "execute_result"
    }
   ],
   "source": [
    "type([3]), type([0]), type([5])"
   ]
  },
  {
   "cell_type": "code",
   "execution_count": 42,
   "metadata": {},
   "outputs": [
    {
     "data": {
      "text/plain": [
       "(int, int)"
      ]
     },
     "execution_count": 42,
     "metadata": {},
     "output_type": "execute_result"
    }
   ],
   "source": [
    "type (k[3]),type(k[4])"
   ]
  },
  {
   "cell_type": "code",
   "execution_count": 44,
   "metadata": {},
   "outputs": [
    {
     "data": {
      "text/plain": [
       "[1, 2.0, 3, 4, 5, 'Apple', True, False]"
      ]
     },
     "execution_count": 44,
     "metadata": {},
     "output_type": "execute_result"
    }
   ],
   "source": [
    "k=[1,2.0,3,4,5,\"Apple\",True, False]\n",
    "k"
   ]
  },
  {
   "cell_type": "code",
   "execution_count": 45,
   "metadata": {},
   "outputs": [
    {
     "data": {
      "text/plain": [
       "(int, str)"
      ]
     },
     "execution_count": 45,
     "metadata": {},
     "output_type": "execute_result"
    }
   ],
   "source": [
    "type(k[3]),type(k[5])"
   ]
  },
  {
   "cell_type": "code",
   "execution_count": 46,
   "metadata": {},
   "outputs": [
    {
     "data": {
      "text/plain": [
       "(int, bool)"
      ]
     },
     "execution_count": 46,
     "metadata": {},
     "output_type": "execute_result"
    }
   ],
   "source": [
    "type(k[3]),type(k[7])"
   ]
  },
  {
   "cell_type": "code",
   "execution_count": 47,
   "metadata": {},
   "outputs": [
    {
     "data": {
      "text/plain": [
       "(str, bool)"
      ]
     },
     "execution_count": 47,
     "metadata": {},
     "output_type": "execute_result"
    }
   ],
   "source": [
    "type(k[5]),type(k[7])"
   ]
  },
  {
   "cell_type": "markdown",
   "metadata": {},
   "source": [
    "* To create list of list\n"
   ]
  },
  {
   "cell_type": "code",
   "execution_count": 55,
   "metadata": {},
   "outputs": [
    {
     "name": "stdout",
     "output_type": "stream",
     "text": [
      "([[1, 5, 3]], [[2, 6, 4]], [[5, 9, 8]])\n"
     ]
    }
   ],
   "source": [
    "k= [[1,5,3]], [[2,6,4]], [[5,9,8]]\n",
    "print(k)"
   ]
  },
  {
   "cell_type": "markdown",
   "metadata": {},
   "source": [
    "* To find list inside list"
   ]
  },
  {
   "cell_type": "code",
   "execution_count": 52,
   "metadata": {},
   "outputs": [
    {
     "data": {
      "text/plain": [
       "[[1, 5, 3]]"
      ]
     },
     "execution_count": 52,
     "metadata": {},
     "output_type": "execute_result"
    }
   ],
   "source": [
    "k[0]"
   ]
  },
  {
   "cell_type": "code",
   "execution_count": 67,
   "metadata": {},
   "outputs": [
    {
     "ename": "IndexError",
     "evalue": "list index out of range",
     "output_type": "error",
     "traceback": [
      "\u001b[1;31m---------------------------------------------------------------------------\u001b[0m",
      "\u001b[1;31mIndexError\u001b[0m                                Traceback (most recent call last)",
      "\u001b[1;32m<ipython-input-67-6254046e8a26>\u001b[0m in \u001b[0;36m<module>\u001b[1;34m\u001b[0m\n\u001b[1;32m----> 1\u001b[1;33m \u001b[0mk\u001b[0m \u001b[1;33m[\u001b[0m\u001b[1;36m0\u001b[0m\u001b[1;33m]\u001b[0m\u001b[1;33m[\u001b[0m\u001b[1;36m1\u001b[0m\u001b[1;33m]\u001b[0m\u001b[1;33m\u001b[0m\u001b[1;33m\u001b[0m\u001b[0m\n\u001b[0m",
      "\u001b[1;31mIndexError\u001b[0m: list index out of range"
     ]
    }
   ],
   "source": [
    "k [0][1]"
   ]
  },
  {
   "cell_type": "markdown",
   "metadata": {},
   "source": [
    "* To add two list. It is not as ususal addition. The elements are accumulated."
   ]
  },
  {
   "cell_type": "code",
   "execution_count": 77,
   "metadata": {},
   "outputs": [
    {
     "data": {
      "text/plain": [
       "([1, 2, 3, 2, 5, 6], {1, 2, 3, 5, 6})"
      ]
     },
     "execution_count": 77,
     "metadata": {},
     "output_type": "execute_result"
    }
   ],
   "source": [
    "k1= [1, 2, 3] ; k2= [2, 5, 6]\n",
    "k1+k2, set(k1+k2)"
   ]
  },
  {
   "cell_type": "markdown",
   "metadata": {},
   "source": [
    "* To end element from end of the list"
   ]
  },
  {
   "cell_type": "code",
   "execution_count": 81,
   "metadata": {},
   "outputs": [
    {
     "data": {
      "text/plain": [
       "[1, 4, 2, 3, 5, 6, 7, 100]"
      ]
     },
     "execution_count": 81,
     "metadata": {},
     "output_type": "execute_result"
    }
   ],
   "source": [
    "k=[1,4,2,3,5,6,7]\n",
    "k.append(100)\n",
    "k"
   ]
  },
  {
   "cell_type": "markdown",
   "metadata": {},
   "source": [
    "* To insert element (99) at specific index (1)"
   ]
  },
  {
   "cell_type": "code",
   "execution_count": 85,
   "metadata": {},
   "outputs": [
    {
     "data": {
      "text/plain": [
       "[1, 99, 4, 2, 3, 5, 6, 7]"
      ]
     },
     "execution_count": 85,
     "metadata": {},
     "output_type": "execute_result"
    }
   ],
   "source": [
    "k=[1,4,2,3,5,6,7]\n",
    "k.insert(1,99)\n",
    "k"
   ]
  },
  {
   "cell_type": "markdown",
   "metadata": {},
   "source": [
    "* To remove specific element from list.It will remove the first occurance"
   ]
  },
  {
   "cell_type": "code",
   "execution_count": 87,
   "metadata": {},
   "outputs": [
    {
     "data": {
      "text/plain": [
       "[1, 2, 3, 5, 6, 7]"
      ]
     },
     "execution_count": 87,
     "metadata": {},
     "output_type": "execute_result"
    }
   ],
   "source": [
    "k=[1,4,2,3,5,6,7]\n",
    "k.remove(4)\n",
    "k"
   ]
  },
  {
   "cell_type": "markdown",
   "metadata": {},
   "source": [
    "* To remove specific element from list.It will remove the first occurance"
   ]
  },
  {
   "cell_type": "code",
   "execution_count": 88,
   "metadata": {},
   "outputs": [
    {
     "data": {
      "text/plain": [
       "[1, 4, 2, 3, 5, 7]"
      ]
     },
     "execution_count": 88,
     "metadata": {},
     "output_type": "execute_result"
    }
   ],
   "source": [
    "k=[1,4,2,3,5,6,7]\n",
    "k.pop(-2)\n",
    "k"
   ]
  },
  {
   "cell_type": "markdown",
   "metadata": {},
   "source": [
    "* To sort the list"
   ]
  },
  {
   "cell_type": "code",
   "execution_count": 97,
   "metadata": {},
   "outputs": [
    {
     "data": {
      "text/plain": [
       "[1, 4, 5, 6, 8, 30, 40]"
      ]
     },
     "execution_count": 97,
     "metadata": {},
     "output_type": "execute_result"
    }
   ],
   "source": [
    "k= [1,5,4,6,40,30,8]\n",
    "k.sort()\n",
    "k"
   ]
  },
  {
   "cell_type": "markdown",
   "metadata": {},
   "source": [
    "* To reverse the list"
   ]
  },
  {
   "cell_type": "code",
   "execution_count": 99,
   "metadata": {},
   "outputs": [
    {
     "data": {
      "text/plain": [
       "[8, 30, 40, 6, 4, 5, 1]"
      ]
     },
     "execution_count": 99,
     "metadata": {},
     "output_type": "execute_result"
    }
   ],
   "source": [
    "k= [1,5,4,6,40,30,8]\n",
    "k.reverse()\n",
    "k"
   ]
  },
  {
   "cell_type": "markdown",
   "metadata": {},
   "source": [
    "* List Comprehensive "
   ]
  },
  {
   "cell_type": "code",
   "execution_count": 101,
   "metadata": {},
   "outputs": [
    {
     "name": "stdout",
     "output_type": "stream",
     "text": [
      "[0, 1, 2, 3, 4, 5, 6, 7, 8, 9, 10, 11, 12, 13, 14, 15, 16, 17, 18, 19, 20, 21, 22, 23, 24, 25, 26, 27, 28, 29, 30, 31, 32, 33, 34, 35, 36, 37, 38, 39, 40, 41, 42, 43, 44, 45, 46, 47, 48, 49, 50, 51, 52, 53, 54, 55, 56, 57, 58, 59, 60, 61, 62, 63, 64, 65, 66, 67, 68, 69, 70, 71, 72, 73, 74, 75, 76, 77, 78, 79, 80, 81, 82, 83, 84, 85, 86, 87, 88, 89, 90, 91, 92, 93, 94, 95, 96, 97, 98, 99]\n"
     ]
    }
   ],
   "source": [
    "k= [x for x in range(100)]\n",
    "print(k)"
   ]
  },
  {
   "cell_type": "code",
   "execution_count": 105,
   "metadata": {},
   "outputs": [
    {
     "name": "stdout",
     "output_type": "stream",
     "text": [
      "[0, 2, 4, 6, 8, 10, 12, 14, 16, 18, 20, 22, 24, 26, 28, 30, 32, 34, 36, 38, 40, 42, 44, 46, 48, 50, 52, 54, 56, 58, 60, 62, 64, 66, 68, 70, 72, 74, 76, 78, 80, 82, 84, 86, 88, 90, 92, 94, 96, 98]\n"
     ]
    }
   ],
   "source": [
    "k=[x for x in range(100) if x%2==0]\n",
    "print(k)"
   ]
  },
  {
   "cell_type": "code",
   "execution_count": 106,
   "metadata": {},
   "outputs": [
    {
     "name": "stdout",
     "output_type": "stream",
     "text": [
      "[0, 5, 10, 15, 20, 25, 30, 35, 40, 45, 50, 55, 60, 65, 70, 75, 80, 85, 90, 95]\n"
     ]
    }
   ],
   "source": [
    "k=[x for x in range(100) if x%5==0]\n",
    "print(k)"
   ]
  },
  {
   "cell_type": "code",
   "execution_count": 107,
   "metadata": {},
   "outputs": [
    {
     "name": "stdout",
     "output_type": "stream",
     "text": [
      "[0, 4, 8, 12, 16, 20, 24, 28, 32, 36, 40, 44, 48, 52, 56, 60, 64, 68, 72, 76, 80, 84, 88, 92, 96]\n"
     ]
    }
   ],
   "source": [
    "k=[x for x in range(100) if x%4==0]\n",
    "print(k)"
   ]
  },
  {
   "cell_type": "code",
   "execution_count": 109,
   "metadata": {},
   "outputs": [
    {
     "data": {
      "text/plain": [
       "12"
      ]
     },
     "execution_count": 109,
     "metadata": {},
     "output_type": "execute_result"
    }
   ],
   "source": [
    "import random as rn\n",
    "rn.randint(0,100)"
   ]
  },
  {
   "cell_type": "code",
   "execution_count": 110,
   "metadata": {},
   "outputs": [
    {
     "data": {
      "text/plain": [
       "56"
      ]
     },
     "execution_count": 110,
     "metadata": {},
     "output_type": "execute_result"
    }
   ],
   "source": [
    "import random as rn\n",
    "rn.randint(0,100)"
   ]
  },
  {
   "cell_type": "code",
   "execution_count": 111,
   "metadata": {},
   "outputs": [
    {
     "data": {
      "text/plain": [
       "15"
      ]
     },
     "execution_count": 111,
     "metadata": {},
     "output_type": "execute_result"
    }
   ],
   "source": [
    "import random as rn\n",
    "rn.randint(0,100)"
   ]
  },
  {
   "cell_type": "code",
   "execution_count": 112,
   "metadata": {},
   "outputs": [
    {
     "data": {
      "text/plain": [
       "88"
      ]
     },
     "execution_count": 112,
     "metadata": {},
     "output_type": "execute_result"
    }
   ],
   "source": [
    "import random as rn\n",
    "rn.randint(0,100)"
   ]
  },
  {
   "cell_type": "code",
   "execution_count": 113,
   "metadata": {},
   "outputs": [
    {
     "name": "stdout",
     "output_type": "stream",
     "text": [
      "[6, 45, 45, 86, 97, 49, 57, 34, 79, 79, 55, 9, 93, 13, 49, 93, 66, 34, 79, 43, 3, 74, 98, 7, 49, 25, 90, 49, 9, 13, 44, 40, 97, 25, 31, 8, 83, 44, 91, 99, 57, 50, 82, 26, 31, 25, 58, 69, 49, 11, 47, 53, 83, 55, 13, 6, 72, 24, 50, 83, 49, 54, 0, 23, 3, 8, 12, 83, 49, 45, 98, 64, 57, 50, 93, 71, 50, 14, 76, 76, 99, 79, 77, 86, 46, 41, 59, 79, 23, 67, 70, 10, 84, 76, 58, 87, 94, 20, 22, 33, 38, 61, 2, 83, 32, 76, 66, 88, 88, 77, 8, 98, 95, 0, 9, 10, 26, 47, 46, 48, 19, 17, 83, 27, 12, 68, 46, 65, 76, 8, 17, 43, 62, 39, 58, 72, 67, 45, 46, 38, 0, 7, 53, 70, 1, 5, 63, 44, 88, 24, 45, 1, 81, 46, 92, 94, 72, 89, 21, 99, 79, 11, 80, 52, 84, 69, 96, 97, 79, 1, 53, 20, 65, 13, 1, 15, 85, 27, 77, 32, 86, 91, 22, 2, 68, 45, 70, 26, 66, 25, 90, 67, 20, 89, 69, 58, 32, 65, 63, 12]\n"
     ]
    }
   ],
   "source": [
    "import random as rn\n",
    "R = [rn.randint(0,100) for k in range(200)]\n",
    "print(R)"
   ]
  },
  {
   "cell_type": "code",
   "execution_count": 114,
   "metadata": {},
   "outputs": [
    {
     "name": "stdout",
     "output_type": "stream",
     "text": [
      "[40, 6, 5, 47, 33, 28, 7, 7, 40, 28, 50, 25, 33, 27, 21, 30, 15, 39, 18, 49, 1, 46, 42, 40, 2]\n"
     ]
    }
   ],
   "source": [
    "import random as rn\n",
    "R = [rn.randint(0,50) for k in range(25)]\n",
    "print(R)"
   ]
  },
  {
   "cell_type": "code",
   "execution_count": 115,
   "metadata": {},
   "outputs": [
    {
     "name": "stdout",
     "output_type": "stream",
     "text": [
      "[3, 10, 9, 8, 2]\n"
     ]
    }
   ],
   "source": [
    "import random as rn\n",
    "R = [rn.randint(0,10) for k in range(5)]\n",
    "print(R)"
   ]
  },
  {
   "cell_type": "code",
   "execution_count": 116,
   "metadata": {},
   "outputs": [
    {
     "name": "stdout",
     "output_type": "stream",
     "text": [
      "Counter({3: 1, 10: 1, 9: 1, 8: 1, 2: 1})\n"
     ]
    }
   ],
   "source": [
    "import collections\n",
    "#High Performance Counting\n",
    "C = collections.Counter(R)\n",
    "print(C)"
   ]
  },
  {
   "cell_type": "code",
   "execution_count": 117,
   "metadata": {},
   "outputs": [
    {
     "name": "stdout",
     "output_type": "stream",
     "text": [
      "[6, 55, 33, 5, 61, 95, 69, 88, 99, 91, 31, 42, 100, 37, 18, 43, 53, 8, 38, 77, 60, 65, 20, 46, 46, 80, 90, 79, 38, 74, 14, 88, 70, 100, 65, 98, 70, 14, 25, 14, 18, 77, 28, 9, 47, 20, 30, 9, 49, 38, 56, 42, 88, 73, 20, 62, 96, 22, 36, 62, 96, 60, 20, 66, 17, 54, 15, 70, 62, 47, 85, 68, 80, 29, 83, 34, 29, 28, 76, 66, 11, 90, 96, 23, 26, 58, 1, 56, 14, 68, 27, 2, 25, 88, 73, 8, 47, 57, 43, 65, 22, 46, 78, 27, 38, 100, 11, 18, 21, 76, 22, 3, 88, 8, 17, 46, 39, 62, 0, 39, 12, 97, 64, 5, 28, 58, 91, 58, 90, 19, 55, 99, 25, 91, 35, 86, 84, 88, 15, 56, 80, 55, 99, 88, 40, 18, 25, 50, 69, 99, 92, 99, 54, 51, 37, 53, 99, 73, 14, 36, 5, 71, 20, 99, 71, 47, 86, 61, 31, 8, 56, 54, 85, 44, 91, 20, 78, 52, 2, 0, 96, 1, 32, 75, 4, 70, 28, 32, 14, 67, 50, 58, 30, 64, 15, 15, 57, 74, 51, 73]\n"
     ]
    }
   ],
   "source": [
    "import random as rn\n",
    "R = [rn.randint(0,100) for k in range(200)]\n",
    "print(R)"
   ]
  },
  {
   "cell_type": "code",
   "execution_count": 118,
   "metadata": {},
   "outputs": [
    {
     "name": "stdout",
     "output_type": "stream",
     "text": [
      "Counter({88: 7, 99: 7, 20: 6, 14: 6, 91: 4, 18: 4, 8: 4, 38: 4, 46: 4, 70: 4, 25: 4, 28: 4, 47: 4, 56: 4, 73: 4, 62: 4, 96: 4, 15: 4, 58: 4, 55: 3, 5: 3, 100: 3, 65: 3, 80: 3, 90: 3, 22: 3, 54: 3, 61: 2, 69: 2, 31: 2, 42: 2, 37: 2, 43: 2, 53: 2, 77: 2, 60: 2, 74: 2, 9: 2, 30: 2, 36: 2, 66: 2, 17: 2, 85: 2, 68: 2, 29: 2, 76: 2, 11: 2, 1: 2, 27: 2, 2: 2, 57: 2, 78: 2, 39: 2, 0: 2, 64: 2, 86: 2, 50: 2, 51: 2, 71: 2, 32: 2, 6: 1, 33: 1, 95: 1, 79: 1, 98: 1, 49: 1, 83: 1, 34: 1, 23: 1, 26: 1, 21: 1, 3: 1, 12: 1, 97: 1, 19: 1, 35: 1, 84: 1, 40: 1, 92: 1, 44: 1, 52: 1, 75: 1, 4: 1, 67: 1})\n"
     ]
    }
   ],
   "source": [
    "import collections\n",
    "#High Performance Counting\n",
    "C = collections.Counter(R)\n",
    "print(C)"
   ]
  },
  {
   "cell_type": "code",
   "execution_count": 132,
   "metadata": {},
   "outputs": [
    {
     "name": "stdout",
     "output_type": "stream",
     "text": [
      "['A', 'R', 'O', 'A', 'R', 'O', 'A', 'A', 'O', 'R', 'G', 'G', 'O', 'O', 'G', 'O', 'A', 'G', 'A', 'R', 'G', 'A', 'G', 'G', 'A', 'O', 'G', 'G', 'O', 'A', 'O', 'G', 'G', 'O', 'G', 'O', 'R', 'G', 'A', 'G', 'G', 'A', 'A', 'G', 'A', 'R', 'O', 'A', 'R', 'O', 'R', 'O', 'R', 'A', 'O', 'G', 'A', 'A', 'G', 'R', 'R', 'O', 'G', 'G', 'A', 'G', 'A', 'G', 'O', 'G', 'R', 'A', 'R', 'A', 'O', 'R', 'A', 'R', 'G', 'O', 'A', 'A', 'G', 'R', 'O', 'R', 'A', 'O', 'O', 'O', 'A', 'G', 'A', 'R', 'O', 'R', 'A', 'R', 'G', 'O', 'G', 'O', 'R', 'R', 'A', 'G', 'A', 'G', 'G', 'O', 'O', 'O', 'A', 'O', 'G', 'G', 'A', 'O', 'A', 'O', 'G', 'A', 'R', 'O', 'G', 'G', 'G', 'G', 'O', 'O', 'R', 'A', 'G', 'R', 'R', 'G', 'G', 'A', 'R', 'G', 'R', 'O', 'G', 'G', 'O', 'O', 'O', 'A', 'G', 'O', 'A', 'O', 'R', 'R', 'A', 'G', 'G', 'O', 'G', 'O', 'O', 'G', 'G', 'O', 'G', 'R', 'G', 'O', 'G', 'A', 'R', 'A', 'O', 'R', 'O', 'R', 'G', 'A', 'A', 'G', 'O', 'R', 'O', 'G', 'A', 'R', 'G', 'O', 'O', 'R', 'G', 'A', 'R', 'G', 'G', 'O', 'R', 'R', 'A', 'O']\n"
     ]
    }
   ],
   "source": [
    "R= [rn.choice(['R','A','G','O']) for i in range(200)]\n",
    "print(R)"
   ]
  },
  {
   "cell_type": "code",
   "execution_count": 126,
   "metadata": {},
   "outputs": [
    {
     "name": "stdout",
     "output_type": "stream",
     "text": [
      "['G', 'C', 'A', 'C', 'A', 'A', 'C', 'A', 'T', 'T', 'T', 'G', 'G', 'G', 'A', 'C', 'T', 'T', 'G', 'C', 'C', 'A', 'G', 'G', 'G', 'A', 'T', 'C', 'C', 'G', 'A', 'A', 'G', 'A', 'T', 'G', 'G', 'C', 'T', 'A', 'G', 'G', 'T', 'C', 'C', 'C', 'T', 'T', 'C', 'A', 'A', 'A', 'A', 'C', 'C', 'T', 'T', 'C', 'C', 'T', 'G', 'C', 'T', 'G', 'A', 'C', 'G', 'A', 'C', 'T', 'C', 'C', 'T', 'T', 'A', 'C', 'T', 'T', 'A', 'T', 'C', 'T', 'C', 'A', 'A', 'C', 'G', 'C', 'G', 'A', 'T', 'T', 'T', 'C', 'G', 'C', 'A', 'C', 'G', 'G', 'C', 'T', 'A', 'A', 'G', 'G', 'C', 'T', 'C', 'G', 'C', 'G', 'C', 'C', 'C', 'T', 'G', 'C', 'C', 'A', 'T', 'A', 'A', 'A', 'T', 'G', 'T', 'A', 'A', 'A', 'T', 'A', 'G', 'G', 'G', 'C', 'G', 'A', 'G', 'G', 'G', 'A', 'T', 'T', 'G', 'T', 'C', 'A', 'C', 'C', 'C', 'C', 'T', 'G', 'C', 'A', 'G', 'G', 'A', 'A', 'A', 'A', 'G', 'G', 'T', 'C', 'G', 'T', 'C', 'G', 'G', 'G', 'T', 'G', 'C', 'T', 'A', 'T', 'T', 'T', 'A', 'T', 'A', 'T', 'A', 'T', 'A', 'A', 'G', 'A', 'T', 'A', 'G', 'A', 'T', 'T', 'G', 'G', 'G', 'C']\n"
     ]
    }
   ],
   "source": [
    "R = [rn.choice(['A','T','G','C']) for i in range(200)]\n",
    "print(R)"
   ]
  },
  {
   "cell_type": "code",
   "execution_count": 133,
   "metadata": {},
   "outputs": [
    {
     "name": "stdout",
     "output_type": "stream",
     "text": [
      "['O', 'O', 'G', 'G', 'R', 'G', 'O', 'R', 'O', 'R', 'G', 'A', 'O', 'G', 'A', 'R', 'O', 'A', 'G', 'O', 'R', 'A', 'G', 'O', 'G', 'G', 'G', 'A', 'A', 'A', 'O', 'O', 'O', 'G', 'R', 'A', 'A', 'R', 'R', 'G', 'O', 'R', 'O', 'A', 'A', 'G', 'G', 'G', 'O', 'O', 'O', 'A', 'O', 'G', 'A', 'A', 'R', 'R', 'A', 'R', 'O', 'G', 'R', 'R', 'O', 'A', 'A', 'R', 'R', 'A', 'A', 'O', 'G', 'R', 'A', 'R', 'R', 'G', 'G', 'O', 'G', 'R', 'G', 'A', 'O', 'A', 'O', 'O', 'G', 'G', 'G', 'R', 'O', 'A', 'R', 'O', 'G', 'G', 'R', 'O', 'R', 'G', 'R', 'G', 'O', 'R', 'R', 'R', 'R', 'G', 'G', 'A', 'A', 'O', 'R', 'O', 'R', 'O', 'O', 'G', 'O', 'G', 'O', 'R', 'O', 'O', 'A', 'O', 'G', 'A', 'R', 'A', 'G', 'G', 'A', 'G', 'G', 'A', 'A', 'R', 'O', 'R', 'O', 'R', 'O', 'G', 'A', 'R', 'R', 'O', 'R', 'G', 'G', 'G', 'A', 'R', 'A', 'G', 'O', 'O', 'R', 'O', 'R', 'R', 'R', 'O', 'A', 'G', 'R', 'O', 'G', 'G', 'G', 'O', 'G', 'O', 'G', 'A', 'O', 'R', 'R', 'A', 'G', 'G', 'G', 'R', 'O', 'O', 'O', 'O', 'A', 'O', 'O', 'G', 'G', 'R', 'O', 'G', 'G', 'G']\n"
     ]
    }
   ],
   "source": [
    "R= [rn.choice(['R','A','G','O']) for i in range(200)]\n",
    "print(R)"
   ]
  },
  {
   "cell_type": "code",
   "execution_count": 137,
   "metadata": {},
   "outputs": [
    {
     "ename": "SyntaxError",
     "evalue": "EOL while scanning string literal (<ipython-input-137-e2a264625c66>, line 1)",
     "output_type": "error",
     "traceback": [
      "\u001b[1;36m  File \u001b[1;32m\"<ipython-input-137-e2a264625c66>\"\u001b[1;36m, line \u001b[1;32m1\u001b[0m\n\u001b[1;33m    DNA = \".join(R)\u001b[0m\n\u001b[1;37m                   ^\u001b[0m\n\u001b[1;31mSyntaxError\u001b[0m\u001b[1;31m:\u001b[0m EOL while scanning string literal\n"
     ]
    }
   ],
   "source": [
    "DNA = \".join(R)\n",
    "DNA"
   ]
  },
  {
   "cell_type": "code",
   "execution_count": 136,
   "metadata": {},
   "outputs": [
    {
     "data": {
      "text/plain": [
       "'OOGGRGORORGAOGAROAGORAGOGGGAAAOOOGRAARRGOROAAGGGOOOAOGAARRAROGRROAARRAAOGRARRGGOGRGAOAOOGGGROAROGGRORGRGORRRRGGAAOROROOGOGOROOAOGARAGGAGGAAROROROGARRORGGGARAGOORORRROAGROGGGOGOGAORRAGGGROOOOAOOGGROGGG'"
      ]
     },
     "execution_count": 136,
     "metadata": {},
     "output_type": "execute_result"
    }
   ],
   "source": [
    "DNA = ''.join(R)\n",
    "DNA"
   ]
  },
  {
   "cell_type": "code",
   "execution_count": 139,
   "metadata": {},
   "outputs": [
    {
     "data": {
      "text/plain": [
       "(49, 20, 5)"
      ]
     },
     "execution_count": 139,
     "metadata": {},
     "output_type": "execute_result"
    }
   ],
   "source": [
    "DNA.count('R'), DNA.count('RO'), DNA.count('GOR')\n"
   ]
  },
  {
   "cell_type": "code",
   "execution_count": 140,
   "metadata": {},
   "outputs": [
    {
     "data": {
      "text/plain": [
       "(56, 2, 5)"
      ]
     },
     "execution_count": 140,
     "metadata": {},
     "output_type": "execute_result"
    }
   ],
   "source": [
    "DNA.count('O'), DNA.count('RAGO'), DNA.count('ROG')\n"
   ]
  },
  {
   "cell_type": "markdown",
   "metadata": {},
   "source": [
    "###  mini assignment\n",
    "\n",
    "Create a DNA string of 10,000 characters and count the following: A,T,G,C,all combination of two charaters, all combinations of three characters."
   ]
  },
  {
   "cell_type": "code",
   "execution_count": 141,
   "metadata": {},
   "outputs": [
    {
     "name": "stdout",
     "output_type": "stream",
     "text": [
      "['G', 'A', 'G', 'A', 'T', 'C', 'G', 'A', 'G', 'T', 'A', 'C', 'A', 'A', 'T', 'T', 'C', 'A', 'A', 'T', 'G', 'A', 'T', 'A', 'A', 'G', 'G', 'T', 'T', 'G', 'T', 'G', 'C', 'G', 'A', 'A', 'T', 'T', 'T', 'T', 'G', 'T', 'T', 'G', 'G', 'A', 'C', 'T', 'C', 'A', 'T', 'A', 'T', 'C', 'C', 'T', 'C', 'C', 'T', 'C', 'A', 'T', 'G', 'C', 'C', 'G', 'A', 'T', 'T', 'G', 'G', 'A', 'C', 'T', 'C', 'T', 'G', 'T', 'T', 'T', 'T', 'G', 'C', 'G', 'T', 'T', 'A', 'C', 'G', 'G', 'G', 'A', 'T', 'A', 'A', 'A', 'A', 'T', 'A', 'G', 'C', 'C', 'C', 'A', 'C', 'C', 'G', 'T', 'A', 'C', 'C', 'C', 'C', 'C', 'G', 'G', 'T', 'G', 'G', 'A', 'G', 'C', 'T', 'T', 'G', 'A', 'G', 'G', 'C', 'T', 'A', 'G', 'T', 'G', 'C', 'C', 'C', 'A', 'T', 'G', 'C', 'G', 'T', 'T', 'C', 'A', 'A', 'C', 'A', 'T', 'C', 'C', 'A', 'C', 'G', 'A', 'T', 'T', 'T', 'T', 'T', 'G', 'A', 'G', 'C', 'C', 'G', 'T', 'G', 'T', 'T', 'T', 'G', 'T', 'T', 'G', 'C', 'C', 'A', 'A', 'A', 'C', 'G', 'A', 'G', 'T', 'T', 'T', 'G', 'C', 'T', 'G', 'A', 'G', 'G', 'A', 'G', 'G', 'A', 'T', 'A', 'G', 'C', 'T', 'C', 'G', 'C', 'T', 'A', 'A', 'G', 'G', 'C', 'C', 'G', 'G', 'C', 'A', 'C', 'A', 'G', 'G', 'A', 'A', 'A', 'G', 'T', 'T', 'T', 'A', 'C', 'T', 'G', 'T', 'G', 'A', 'T', 'A', 'T', 'A', 'C', 'C', 'G', 'G', 'C', 'C', 'A', 'T', 'G', 'C', 'C', 'A', 'A', 'C', 'G', 'A', 'C', 'A', 'A', 'G', 'G', 'T', 'T', 'G', 'C', 'T', 'C', 'G', 'G', 'G', 'A', 'G', 'C', 'G', 'A', 'A', 'C', 'C', 'T', 'G', 'T', 'C', 'G', 'C', 'G', 'G', 'T', 'A', 'A', 'G', 'G', 'C', 'T', 'G', 'A', 'C', 'A', 'T', 'G', 'G', 'A', 'T', 'G', 'A', 'T', 'C', 'G', 'C', 'G', 'A', 'C', 'G', 'C', 'G', 'G', 'C', 'G', 'C', 'G', 'C', 'C', 'T', 'C', 'C', 'C', 'A', 'A', 'C', 'A', 'C', 'C', 'C', 'C', 'T', 'G', 'A', 'C', 'T', 'T', 'C', 'T', 'A', 'C', 'C', 'T', 'C', 'T', 'T', 'A', 'C', 'A', 'A', 'G', 'A', 'C', 'T', 'G', 'T', 'G', 'T', 'C', 'A', 'T', 'G', 'G', 'A', 'T', 'A', 'T', 'G', 'G', 'C', 'G', 'C', 'G', 'C', 'G', 'T', 'C', 'A', 'T', 'C', 'A', 'T', 'A', 'A', 'A', 'T', 'G', 'G', 'C', 'A', 'C', 'G', 'C', 'C', 'A', 'C', 'G', 'G', 'C', 'A', 'T', 'A', 'A', 'C', 'T', 'G', 'T', 'A', 'C', 'G', 'G', 'A', 'G', 'A', 'T', 'A', 'G', 'G', 'G', 'A', 'A', 'T', 'C', 'G', 'T', 'T', 'A', 'A', 'T', 'C', 'A', 'G', 'C', 'G', 'C', 'G', 'G', 'T', 'G', 'A', 'T', 'G', 'C', 'A', 'A', 'G', 'T', 'A', 'T', 'G', 'G', 'A', 'T', 'C', 'A', 'T', 'T', 'A', 'T', 'T', 'G', 'A', 'A', 'G', 'G', 'T', 'C', 'C', 'C', 'A', 'G', 'T', 'A', 'C', 'T', 'T', 'G', 'A', 'T', 'C', 'C', 'A', 'T', 'C', 'T', 'T', 'A', 'C', 'A', 'T', 'G', 'C', 'A', 'A', 'T', 'T', 'T', 'A', 'T', 'A', 'A', 'A', 'C', 'A', 'T', 'G', 'C', 'T', 'C', 'T', 'C', 'A', 'A', 'C', 'A', 'C', 'T', 'A', 'T', 'G', 'C', 'G', 'T', 'T', 'T', 'A', 'C', 'C', 'A', 'A', 'T', 'T', 'A', 'G', 'T', 'A', 'C', 'G', 'A', 'T', 'A', 'A', 'T', 'A', 'T', 'T', 'G', 'G', 'C', 'G', 'A', 'G', 'C', 'A', 'G', 'C', 'A', 'A', 'T', 'A', 'C', 'C', 'A', 'C', 'A', 'T', 'A', 'C', 'G', 'C', 'T', 'G', 'T', 'T', 'A', 'G', 'G', 'G', 'C', 'C', 'A', 'A', 'C', 'C', 'A', 'A', 'T', 'A', 'G', 'C', 'C', 'A', 'C', 'G', 'A', 'G', 'A', 'G', 'G', 'G', 'T', 'T', 'C', 'G', 'C', 'A', 'T', 'A', 'A', 'C', 'G', 'A', 'A', 'T', 'G', 'T', 'A', 'T', 'C', 'T', 'T', 'A', 'G', 'T', 'C', 'G', 'C', 'T', 'A', 'T', 'G', 'T', 'A', 'C', 'G', 'A', 'G', 'T', 'G', 'C', 'C', 'C', 'T', 'C', 'T', 'A', 'A', 'C', 'A', 'G', 'A', 'C', 'A', 'T', 'T', 'G', 'C', 'T', 'T', 'C', 'G', 'A', 'A', 'C', 'C', 'C', 'C', 'C', 'T', 'A', 'T', 'G', 'T', 'T', 'C', 'C', 'T', 'T', 'T', 'C', 'A', 'T', 'A', 'G', 'T', 'C', 'C', 'C', 'T', 'T', 'A', 'C', 'A', 'C', 'G', 'G', 'C', 'G', 'G', 'A', 'C', 'T', 'T', 'A', 'A', 'C', 'T', 'T', 'C', 'G', 'G', 'C', 'C', 'G', 'T', 'T', 'G', 'T', 'G', 'A', 'T', 'T', 'C', 'C', 'A', 'A', 'T', 'T', 'G', 'A', 'T', 'A', 'C', 'T', 'A', 'C', 'T', 'T', 'A', 'G', 'T', 'G', 'T', 'T', 'C', 'T', 'T', 'G', 'A', 'C', 'C', 'C', 'G', 'A', 'C', 'C', 'C', 'C', 'T', 'T', 'T', 'C', 'C', 'T', 'A', 'G', 'G', 'G', 'C', 'T', 'T', 'T', 'A', 'C', 'G', 'C', 'G', 'T', 'C', 'A', 'G', 'G', 'A', 'A', 'A', 'G', 'T', 'G', 'T', 'G', 'A', 'T', 'G', 'G', 'T', 'A', 'T', 'C', 'C', 'A', 'A', 'T', 'C', 'T', 'C', 'G', 'A', 'A', 'G', 'T', 'T', 'T', 'C', 'G', 'A', 'T', 'T', 'G', 'A', 'C', 'G', 'T', 'G', 'T', 'T', 'G', 'A', 'T', 'C', 'T', 'A', 'A', 'C', 'C', 'G', 'A', 'G', 'C', 'C', 'G', 'C', 'C', 'A', 'T', 'A', 'T', 'A', 'C', 'T', 'G', 'G', 'C', 'T', 'C', 'A', 'C', 'C', 'T', 'G', 'C', 'C', 'A', 'G', 'T', 'A', 'T', 'T', 'A', 'T', 'A', 'G', 'T', 'G', 'G', 'T', 'T', 'C', 'G', 'G', 'A', 'A', 'A', 'T', 'A', 'A', 'T', 'G', 'T', 'C', 'A', 'A', 'C', 'A', 'G', 'G', 'T', 'A', 'T', 'C', 'T', 'A', 'T', 'T', 'C', 'C', 'C', 'G', 'A', 'A', 'C', 'G', 'G', 'C', 'T', 'C', 'A', 'C', 'C', 'C', 'T', 'G', 'A', 'A', 'T', 'A', 'G', 'T', 'A', 'G', 'C', 'A', 'C', 'C', 'T', 'A', 'A', 'G', 'A', 'C', 'T', 'C', 'G', 'A', 'C', 'G', 'G', 'T', 'G', 'G', 'G', 'T', 'T', 'C', 'A', 'C', 'G', 'A', 'T', 'A', 'A', 'T', 'C', 'A', 'T', 'C', 'T', 'A', 'T', 'T', 'C', 'C', 'T', 'C', 'C', 'T', 'A', 'G', 'T', 'C', 'T', 'T', 'G', 'C', 'G', 'A', 'G', 'C', 'G', 'G', 'C', 'G', 'C', 'C', 'T', 'T', 'C', 'A', 'A']\n"
     ]
    }
   ],
   "source": [
    "R = [rn.choice(['A','T','G','C']) for i in range(1000)]\n",
    "print(R)"
   ]
  },
  {
   "cell_type": "code",
   "execution_count": 142,
   "metadata": {},
   "outputs": [
    {
     "data": {
      "text/plain": [
       "'.join(R)'"
      ]
     },
     "execution_count": 142,
     "metadata": {},
     "output_type": "execute_result"
    }
   ],
   "source": [
    "DNA = '.join(R)'\n",
    "DNA"
   ]
  },
  {
   "cell_type": "code",
   "execution_count": null,
   "metadata": {},
   "outputs": [],
   "source": []
  }
 ],
 "metadata": {
  "kernelspec": {
   "display_name": "Python 3",
   "language": "python",
   "name": "python3"
  },
  "language_info": {
   "codemirror_mode": {
    "name": "ipython",
    "version": 3
   },
   "file_extension": ".py",
   "mimetype": "text/x-python",
   "name": "python",
   "nbconvert_exporter": "python",
   "pygments_lexer": "ipython3",
   "version": "3.7.6"
  }
 },
 "nbformat": 4,
 "nbformat_minor": 4
}
